{
  "nbformat": 4,
  "nbformat_minor": 0,
  "metadata": {
    "colab": {
      "name": "Cryptweet.ipynb",
      "provenance": [],
      "authorship_tag": "ABX9TyPWilK0kOYCOP5FaWMXVxVg",
      "include_colab_link": true
    },
    "kernelspec": {
      "name": "python3",
      "display_name": "Python 3"
    },
    "language_info": {
      "name": "python"
    },
    "widgets": {
      "application/vnd.jupyter.widget-state+json": {
        "eb4688eba98c4009b876f7cc7bca063f": {
          "model_module": "@jupyter-widgets/controls",
          "model_name": "HBoxModel",
          "model_module_version": "1.5.0",
          "state": {
            "_dom_classes": [],
            "_model_module": "@jupyter-widgets/controls",
            "_model_module_version": "1.5.0",
            "_model_name": "HBoxModel",
            "_view_count": null,
            "_view_module": "@jupyter-widgets/controls",
            "_view_module_version": "1.5.0",
            "_view_name": "HBoxView",
            "box_style": "",
            "children": [
              "IPY_MODEL_ad9499162c4645fb99dff90c7da40fe9",
              "IPY_MODEL_bb5d8e2bdd584f97ad01958802cf7fa0",
              "IPY_MODEL_77ab0b7f1a98423dadbf98d79d62de49"
            ],
            "layout": "IPY_MODEL_8efa550f09d04aeabd566a7dfdbe9cda"
          }
        },
        "ad9499162c4645fb99dff90c7da40fe9": {
          "model_module": "@jupyter-widgets/controls",
          "model_name": "HTMLModel",
          "model_module_version": "1.5.0",
          "state": {
            "_dom_classes": [],
            "_model_module": "@jupyter-widgets/controls",
            "_model_module_version": "1.5.0",
            "_model_name": "HTMLModel",
            "_view_count": null,
            "_view_module": "@jupyter-widgets/controls",
            "_view_module_version": "1.5.0",
            "_view_name": "HTMLView",
            "description": "",
            "description_tooltip": null,
            "layout": "IPY_MODEL_2934c961dc5e43e5a269a32175fe8d48",
            "placeholder": "​",
            "style": "IPY_MODEL_608336e45bb84de69efb7d364d1a3aed",
            "value": "Downloading: 100%"
          }
        },
        "bb5d8e2bdd584f97ad01958802cf7fa0": {
          "model_module": "@jupyter-widgets/controls",
          "model_name": "FloatProgressModel",
          "model_module_version": "1.5.0",
          "state": {
            "_dom_classes": [],
            "_model_module": "@jupyter-widgets/controls",
            "_model_module_version": "1.5.0",
            "_model_name": "FloatProgressModel",
            "_view_count": null,
            "_view_module": "@jupyter-widgets/controls",
            "_view_module_version": "1.5.0",
            "_view_name": "ProgressView",
            "bar_style": "success",
            "description": "",
            "description_tooltip": null,
            "layout": "IPY_MODEL_e348399a78b54612b2b10d326080a691",
            "max": 1013,
            "min": 0,
            "orientation": "horizontal",
            "style": "IPY_MODEL_881ebc5e01f1416faca04229b4f39dd3",
            "value": 1013
          }
        },
        "77ab0b7f1a98423dadbf98d79d62de49": {
          "model_module": "@jupyter-widgets/controls",
          "model_name": "HTMLModel",
          "model_module_version": "1.5.0",
          "state": {
            "_dom_classes": [],
            "_model_module": "@jupyter-widgets/controls",
            "_model_module_version": "1.5.0",
            "_model_name": "HTMLModel",
            "_view_count": null,
            "_view_module": "@jupyter-widgets/controls",
            "_view_module_version": "1.5.0",
            "_view_name": "HTMLView",
            "description": "",
            "description_tooltip": null,
            "layout": "IPY_MODEL_cbad63db231044458a7b178e904108cc",
            "placeholder": "​",
            "style": "IPY_MODEL_a47a6449ad294bc1a531159f01b40da0",
            "value": " 0.99k/0.99k [00:00&lt;00:00, 22.5kB/s]"
          }
        },
        "8efa550f09d04aeabd566a7dfdbe9cda": {
          "model_module": "@jupyter-widgets/base",
          "model_name": "LayoutModel",
          "model_module_version": "1.2.0",
          "state": {
            "_model_module": "@jupyter-widgets/base",
            "_model_module_version": "1.2.0",
            "_model_name": "LayoutModel",
            "_view_count": null,
            "_view_module": "@jupyter-widgets/base",
            "_view_module_version": "1.2.0",
            "_view_name": "LayoutView",
            "align_content": null,
            "align_items": null,
            "align_self": null,
            "border": null,
            "bottom": null,
            "display": null,
            "flex": null,
            "flex_flow": null,
            "grid_area": null,
            "grid_auto_columns": null,
            "grid_auto_flow": null,
            "grid_auto_rows": null,
            "grid_column": null,
            "grid_gap": null,
            "grid_row": null,
            "grid_template_areas": null,
            "grid_template_columns": null,
            "grid_template_rows": null,
            "height": null,
            "justify_content": null,
            "justify_items": null,
            "left": null,
            "margin": null,
            "max_height": null,
            "max_width": null,
            "min_height": null,
            "min_width": null,
            "object_fit": null,
            "object_position": null,
            "order": null,
            "overflow": null,
            "overflow_x": null,
            "overflow_y": null,
            "padding": null,
            "right": null,
            "top": null,
            "visibility": null,
            "width": null
          }
        },
        "2934c961dc5e43e5a269a32175fe8d48": {
          "model_module": "@jupyter-widgets/base",
          "model_name": "LayoutModel",
          "model_module_version": "1.2.0",
          "state": {
            "_model_module": "@jupyter-widgets/base",
            "_model_module_version": "1.2.0",
            "_model_name": "LayoutModel",
            "_view_count": null,
            "_view_module": "@jupyter-widgets/base",
            "_view_module_version": "1.2.0",
            "_view_name": "LayoutView",
            "align_content": null,
            "align_items": null,
            "align_self": null,
            "border": null,
            "bottom": null,
            "display": null,
            "flex": null,
            "flex_flow": null,
            "grid_area": null,
            "grid_auto_columns": null,
            "grid_auto_flow": null,
            "grid_auto_rows": null,
            "grid_column": null,
            "grid_gap": null,
            "grid_row": null,
            "grid_template_areas": null,
            "grid_template_columns": null,
            "grid_template_rows": null,
            "height": null,
            "justify_content": null,
            "justify_items": null,
            "left": null,
            "margin": null,
            "max_height": null,
            "max_width": null,
            "min_height": null,
            "min_width": null,
            "object_fit": null,
            "object_position": null,
            "order": null,
            "overflow": null,
            "overflow_x": null,
            "overflow_y": null,
            "padding": null,
            "right": null,
            "top": null,
            "visibility": null,
            "width": null
          }
        },
        "608336e45bb84de69efb7d364d1a3aed": {
          "model_module": "@jupyter-widgets/controls",
          "model_name": "DescriptionStyleModel",
          "model_module_version": "1.5.0",
          "state": {
            "_model_module": "@jupyter-widgets/controls",
            "_model_module_version": "1.5.0",
            "_model_name": "DescriptionStyleModel",
            "_view_count": null,
            "_view_module": "@jupyter-widgets/base",
            "_view_module_version": "1.2.0",
            "_view_name": "StyleView",
            "description_width": ""
          }
        },
        "e348399a78b54612b2b10d326080a691": {
          "model_module": "@jupyter-widgets/base",
          "model_name": "LayoutModel",
          "model_module_version": "1.2.0",
          "state": {
            "_model_module": "@jupyter-widgets/base",
            "_model_module_version": "1.2.0",
            "_model_name": "LayoutModel",
            "_view_count": null,
            "_view_module": "@jupyter-widgets/base",
            "_view_module_version": "1.2.0",
            "_view_name": "LayoutView",
            "align_content": null,
            "align_items": null,
            "align_self": null,
            "border": null,
            "bottom": null,
            "display": null,
            "flex": null,
            "flex_flow": null,
            "grid_area": null,
            "grid_auto_columns": null,
            "grid_auto_flow": null,
            "grid_auto_rows": null,
            "grid_column": null,
            "grid_gap": null,
            "grid_row": null,
            "grid_template_areas": null,
            "grid_template_columns": null,
            "grid_template_rows": null,
            "height": null,
            "justify_content": null,
            "justify_items": null,
            "left": null,
            "margin": null,
            "max_height": null,
            "max_width": null,
            "min_height": null,
            "min_width": null,
            "object_fit": null,
            "object_position": null,
            "order": null,
            "overflow": null,
            "overflow_x": null,
            "overflow_y": null,
            "padding": null,
            "right": null,
            "top": null,
            "visibility": null,
            "width": null
          }
        },
        "881ebc5e01f1416faca04229b4f39dd3": {
          "model_module": "@jupyter-widgets/controls",
          "model_name": "ProgressStyleModel",
          "model_module_version": "1.5.0",
          "state": {
            "_model_module": "@jupyter-widgets/controls",
            "_model_module_version": "1.5.0",
            "_model_name": "ProgressStyleModel",
            "_view_count": null,
            "_view_module": "@jupyter-widgets/base",
            "_view_module_version": "1.2.0",
            "_view_name": "StyleView",
            "bar_color": null,
            "description_width": ""
          }
        },
        "cbad63db231044458a7b178e904108cc": {
          "model_module": "@jupyter-widgets/base",
          "model_name": "LayoutModel",
          "model_module_version": "1.2.0",
          "state": {
            "_model_module": "@jupyter-widgets/base",
            "_model_module_version": "1.2.0",
            "_model_name": "LayoutModel",
            "_view_count": null,
            "_view_module": "@jupyter-widgets/base",
            "_view_module_version": "1.2.0",
            "_view_name": "LayoutView",
            "align_content": null,
            "align_items": null,
            "align_self": null,
            "border": null,
            "bottom": null,
            "display": null,
            "flex": null,
            "flex_flow": null,
            "grid_area": null,
            "grid_auto_columns": null,
            "grid_auto_flow": null,
            "grid_auto_rows": null,
            "grid_column": null,
            "grid_gap": null,
            "grid_row": null,
            "grid_template_areas": null,
            "grid_template_columns": null,
            "grid_template_rows": null,
            "height": null,
            "justify_content": null,
            "justify_items": null,
            "left": null,
            "margin": null,
            "max_height": null,
            "max_width": null,
            "min_height": null,
            "min_width": null,
            "object_fit": null,
            "object_position": null,
            "order": null,
            "overflow": null,
            "overflow_x": null,
            "overflow_y": null,
            "padding": null,
            "right": null,
            "top": null,
            "visibility": null,
            "width": null
          }
        },
        "a47a6449ad294bc1a531159f01b40da0": {
          "model_module": "@jupyter-widgets/controls",
          "model_name": "DescriptionStyleModel",
          "model_module_version": "1.5.0",
          "state": {
            "_model_module": "@jupyter-widgets/controls",
            "_model_module_version": "1.5.0",
            "_model_name": "DescriptionStyleModel",
            "_view_count": null,
            "_view_module": "@jupyter-widgets/base",
            "_view_module_version": "1.2.0",
            "_view_name": "StyleView",
            "description_width": ""
          }
        }
      }
    }
  },
  "cells": [
    {
      "cell_type": "markdown",
      "metadata": {
        "id": "view-in-github",
        "colab_type": "text"
      },
      "source": [
        "<a href=\"https://colab.research.google.com/github/haleelsada/Cryptweets/blob/main/Cryptweet.ipynb\" target=\"_parent\"><img src=\"https://colab.research.google.com/assets/colab-badge.svg\" alt=\"Open In Colab\"/></a>"
      ]
    },
    {
      "cell_type": "markdown",
      "source": [
        "# **Cryptweet**\n",
        "\n",
        "**Integrating Twitter API with transformers to predict future movement of cryptocurrencies and stocks**\n",
        "\n",
        "It is known that social media platforms like twitter plays an imortant role in determining the price of financial asset platforms like stock market and crytpocurrencies. It is expected to increase the price of Doge after a tweet from Elon musk. Here the sentiment of public about a cryptocoin or stock (or any current issue going on!) could be calculated with the help of **twitter api** and **huggingface transformers** and a little mathematics"
      ],
      "metadata": {
        "id": "GaKlMEgSaUfW"
      }
    },
    {
      "cell_type": "code",
      "execution_count": 1,
      "metadata": {
        "colab": {
          "base_uri": "https://localhost:8080/"
        },
        "id": "ZVbnKJe9aQiG",
        "outputId": "2e1f78f4-6ba9-4e25-ee64-286833f5a24a"
      },
      "outputs": [
        {
          "output_type": "stream",
          "name": "stdout",
          "text": [
            "Requirement already satisfied: tweepy in /usr/local/lib/python3.7/dist-packages (4.8.0)\n",
            "Requirement already satisfied: requests-oauthlib<2,>=1.2.0 in /usr/local/lib/python3.7/dist-packages (from tweepy) (1.3.1)\n",
            "Requirement already satisfied: oauthlib<4,>=3.2.0 in /usr/local/lib/python3.7/dist-packages (from tweepy) (3.2.0)\n",
            "Requirement already satisfied: requests<3,>=2.27.0 in /usr/local/lib/python3.7/dist-packages (from tweepy) (2.27.1)\n",
            "Requirement already satisfied: charset-normalizer~=2.0.0 in /usr/local/lib/python3.7/dist-packages (from requests<3,>=2.27.0->tweepy) (2.0.12)\n",
            "Requirement already satisfied: certifi>=2017.4.17 in /usr/local/lib/python3.7/dist-packages (from requests<3,>=2.27.0->tweepy) (2021.10.8)\n",
            "Requirement already satisfied: idna<4,>=2.5 in /usr/local/lib/python3.7/dist-packages (from requests<3,>=2.27.0->tweepy) (2.10)\n",
            "Requirement already satisfied: urllib3<1.27,>=1.21.1 in /usr/local/lib/python3.7/dist-packages (from requests<3,>=2.27.0->tweepy) (1.24.3)\n"
          ]
        }
      ],
      "source": [
        "# modules for twitter api manipulation\n",
        "!pip install --upgrade tweepy\n",
        "import tweepy\n",
        "import json\n",
        "import pandas,numpy"
      ]
    },
    {
      "cell_type": "code",
      "source": [
        "# import necassery modules for mood analysis\n",
        "from transformers import pipeline\n",
        "!pip -q install transformers\n",
        "!pip3 install emoji\n",
        "sentimentmodel=pipeline(model=\"finiteautomata/bertweet-base-sentiment-analysis\")\n",
        "\n"
      ],
      "metadata": {
        "colab": {
          "base_uri": "https://localhost:8080/",
          "height": 80,
          "referenced_widgets": [
            "eb4688eba98c4009b876f7cc7bca063f",
            "ad9499162c4645fb99dff90c7da40fe9",
            "bb5d8e2bdd584f97ad01958802cf7fa0",
            "77ab0b7f1a98423dadbf98d79d62de49",
            "8efa550f09d04aeabd566a7dfdbe9cda",
            "2934c961dc5e43e5a269a32175fe8d48",
            "608336e45bb84de69efb7d364d1a3aed",
            "e348399a78b54612b2b10d326080a691",
            "881ebc5e01f1416faca04229b4f39dd3",
            "cbad63db231044458a7b178e904108cc",
            "a47a6449ad294bc1a531159f01b40da0"
          ]
        },
        "id": "I9vt38x23leG",
        "outputId": "f033e7f5-d3c2-4bb2-ea45-20681352cdc5"
      },
      "execution_count": 2,
      "outputs": [
        {
          "output_type": "stream",
          "name": "stdout",
          "text": [
            "Requirement already satisfied: emoji in /usr/local/lib/python3.7/dist-packages (1.7.0)\n"
          ]
        },
        {
          "output_type": "display_data",
          "data": {
            "text/plain": [
              "Downloading:   0%|          | 0.00/0.99k [00:00<?, ?B/s]"
            ],
            "application/vnd.jupyter.widget-view+json": {
              "version_major": 2,
              "version_minor": 0,
              "model_id": "eb4688eba98c4009b876f7cc7bca063f"
            }
          },
          "metadata": {}
        }
      ]
    },
    {
      "cell_type": "code",
      "source": [
        "# authenticate the api key and token with twitter\n",
        "\n",
        "from tweepy.auth import OAuthHandler\n",
        "\n",
        "auth = OAuthHandler('t6d8uj4w9P6DjrNSmfSd42gEI', 'ZLcVXunCbN6NO4rUup6vTR33rO32epm0LFHLkzFLZnhjbQmQzZ')\n",
        "auth.set_access_token('1405483945379074054-ktOMmQ6HUcZwzOxiHfjcFmP74hkTn5', 'hV792qfEAuJcvZmkzmoMf61qaaSnoV8D2YiIFYjzAgr06')\n",
        "\n",
        "\n",
        "api = tweepy.API(auth,wait_on_rate_limit=True)"
      ],
      "metadata": {
        "id": "k121o5gGbORs"
      },
      "execution_count": 3,
      "outputs": []
    },
    {
      "cell_type": "code",
      "source": [
        "# extract the tweets with the given keyword\n",
        "\n",
        "def tweextractor(keyword):\n",
        "\n",
        "  tweet=[]      #list to store tweets extracted\n",
        " \n",
        "  # search_tweets method extract atmost 100 tweets with given keyword\n",
        "  # use it with cursor to extract more than that in one go\n",
        "  \n",
        "  # take 500 popular tweets and 500 recent tweets to keep consistency in the result\n",
        "\n",
        "  for i in tweepy.Cursor(api.search_tweets, keyword,tweet_mode=\"extended\",lang='en',result_type='recent',count=100).items(500):\n",
        "    i = json.dumps(i._json)\n",
        "    i = json.loads(i)\n",
        "    if i['full_text'] not in tweet:\n",
        "      tweet.append(i['full_text'])\n",
        "  for i in tweepy.Cursor(api.search_tweets, keyword,tweet_mode=\"extended\",lang='en',result_type='popular',count=100).items(500):\n",
        "    i = json.dumps(i._json)\n",
        "    i = json.loads(i)\n",
        "    if i['full_text'] not in tweet and len(i['full_text'])<500:\n",
        "      tweet.append(i['full_text'])\n",
        "  print(len(tweet),'tweets total tweets found')\n",
        "  return tweet\n"
      ],
      "metadata": {
        "id": "EoCN5MGSb_c3"
      },
      "execution_count": 4,
      "outputs": []
    },
    {
      "cell_type": "code",
      "source": [
        "#check tweextractor function\n",
        "\n",
        "tweets=tweextractor('bitcoin')\n",
        "tweets[:5]"
      ],
      "metadata": {
        "colab": {
          "base_uri": "https://localhost:8080/"
        },
        "id": "5FrIJlC228vu",
        "outputId": "379db044-b3ab-4b7b-c79d-04bce7202109"
      },
      "execution_count": 5,
      "outputs": [
        {
          "output_type": "stream",
          "name": "stdout",
          "text": [
            "441 tweets total tweets found\n"
          ]
        },
        {
          "output_type": "execute_result",
          "data": {
            "text/plain": [
              "['RT @Rakontoken: Vitalik Buterin Isn’t Crazy About NFTs\\n\\nVitalik Buterin – known for his role in creating Ethereum, the largest altcoin on t…',\n",
              " 'RT @BKEXGlobal: #BKEX New Listing | @bridge_oracle\\n\\n#BKEX will list #BRG/USDT🚀 🚀\\n- Token type: BEP20\\n- Deposit: 23:00 on Mar 13 (UTC+8)\\n- T…',\n",
              " 'Current Bitcoin (BTC-USD) price: 40110.668 USD                     (ID: 23593) #crypto #cryptocurrency #bitcoin #btc',\n",
              " 'RT @YXorxx: @MemecoinMessiah @hpos10idotcom @dogecoin The ALPHA and the OMEGA.\\nThe BEGINNING and the END\\n\\n#Bitcoin \\n#cryptotrading https://…',\n",
              " 'When I ask younger people what their long term plan is, they simply say they want to be rich... Yet they have no interest in economics, math, or #Bitcoin. \\n\\nThey also have no plan. \\n\\nStrange. \\n\\nWe are not the same.']"
            ]
          },
          "metadata": {},
          "execution_count": 5
        }
      ]
    },
    {
      "cell_type": "code",
      "source": [
        "# method to take tweets and find overwhole sentiment to analyse where the\n",
        "def sentimentanalyser(tweet):\n",
        "  score=[]\n",
        "  mood=sentimentmodel(tweet)\n",
        "  for i in mood:\n",
        "    if i['label']=='POS':\n",
        "      score.append(i['score'])\n",
        "    elif i['label']=='NEG':\n",
        "      score.append(-i['score'])\n",
        "  sentiment=sum(score)/len(score)\n",
        "  if sentiment>0:\n",
        "    print('Sentiment of public is positive with probability',sentiment)\n",
        "  else:print('Sentiment of public is negative with probability',sentiment)\n",
        "  "
      ],
      "metadata": {
        "id": "GdQC-rsNrw0W"
      },
      "execution_count": 6,
      "outputs": []
    },
    {
      "cell_type": "code",
      "source": [
        "keyword='HDFC'    # check mood of public about the price of hdfc stock\n",
        "tweets=tweextractor(keyword)\n",
        "sentimentanalyser(tweets)"
      ],
      "metadata": {
        "colab": {
          "base_uri": "https://localhost:8080/"
        },
        "id": "RScavGIYsyXN",
        "outputId": "5fd4a281-8cdf-4509-8434-501c9a8a92a4"
      },
      "execution_count": 7,
      "outputs": [
        {
          "output_type": "stream",
          "name": "stdout",
          "text": [
            "295 tweets total tweets found\n",
            "Sentiment of public is negative with probability -0.5191410990624592\n"
          ]
        }
      ]
    },
    {
      "cell_type": "code",
      "source": [
        "keyword='nifty50'    # check mood of public about the price of hdfc stock\n",
        "tweets=tweextractor(keyword)\n",
        "sentimentanalyser(tweets)"
      ],
      "metadata": {
        "colab": {
          "base_uri": "https://localhost:8080/"
        },
        "id": "h-svbMaVzGTb",
        "outputId": "d71e3ca2-9cc4-4816-f98c-bdb3d72d2058"
      },
      "execution_count": 8,
      "outputs": [
        {
          "output_type": "stream",
          "name": "stdout",
          "text": [
            "440 tweets total tweets found\n",
            "Sentiment of public is positive with probability 0.27697749195560334\n"
          ]
        }
      ]
    },
    {
      "cell_type": "code",
      "source": [
        ""
      ],
      "metadata": {
        "id": "o_Rj_pWmAxxM"
      },
      "execution_count": 8,
      "outputs": []
    }
  ]
}