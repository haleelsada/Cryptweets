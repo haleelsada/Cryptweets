{
  "nbformat": 4,
  "nbformat_minor": 0,
  "metadata": {
    "colab": {
      "name": "Cryptweet.ipynb",
      "provenance": [],
      "authorship_tag": "ABX9TyNjET0DN/MjSkLPBj+socSX",
      "include_colab_link": true
    },
    "kernelspec": {
      "name": "python3",
      "display_name": "Python 3"
    },
    "language_info": {
      "name": "python"
    },
    "widgets": {
      "application/vnd.jupyter.widget-state+json": {
        "7a1d500381c34d2e8395987168e6fd44": {
          "model_module": "@jupyter-widgets/controls",
          "model_name": "HBoxModel",
          "model_module_version": "1.5.0",
          "state": {
            "_dom_classes": [],
            "_model_module": "@jupyter-widgets/controls",
            "_model_module_version": "1.5.0",
            "_model_name": "HBoxModel",
            "_view_count": null,
            "_view_module": "@jupyter-widgets/controls",
            "_view_module_version": "1.5.0",
            "_view_name": "HBoxView",
            "box_style": "",
            "children": [
              "IPY_MODEL_ce7c47b9ae064137a4c4c32e34704e37",
              "IPY_MODEL_81127da8e6c647f68bc56628e50adfc8",
              "IPY_MODEL_e1799f49810344e4a93ae2f703e64ce0"
            ],
            "layout": "IPY_MODEL_8a8d06e539914344b097810576c4106a"
          }
        },
        "ce7c47b9ae064137a4c4c32e34704e37": {
          "model_module": "@jupyter-widgets/controls",
          "model_name": "HTMLModel",
          "model_module_version": "1.5.0",
          "state": {
            "_dom_classes": [],
            "_model_module": "@jupyter-widgets/controls",
            "_model_module_version": "1.5.0",
            "_model_name": "HTMLModel",
            "_view_count": null,
            "_view_module": "@jupyter-widgets/controls",
            "_view_module_version": "1.5.0",
            "_view_name": "HTMLView",
            "description": "",
            "description_tooltip": null,
            "layout": "IPY_MODEL_275368c016764f9b8a306d4af4caa257",
            "placeholder": "​",
            "style": "IPY_MODEL_095703e680094b52a111717f76dd8b08",
            "value": "Downloading: 100%"
          }
        },
        "81127da8e6c647f68bc56628e50adfc8": {
          "model_module": "@jupyter-widgets/controls",
          "model_name": "FloatProgressModel",
          "model_module_version": "1.5.0",
          "state": {
            "_dom_classes": [],
            "_model_module": "@jupyter-widgets/controls",
            "_model_module_version": "1.5.0",
            "_model_name": "FloatProgressModel",
            "_view_count": null,
            "_view_module": "@jupyter-widgets/controls",
            "_view_module_version": "1.5.0",
            "_view_name": "ProgressView",
            "bar_style": "success",
            "description": "",
            "description_tooltip": null,
            "layout": "IPY_MODEL_5fb796c39ae44f0bb3edceb8c33801b3",
            "max": 1013,
            "min": 0,
            "orientation": "horizontal",
            "style": "IPY_MODEL_0edf4592dfe547fb82b894b7fc8205e6",
            "value": 1013
          }
        },
        "e1799f49810344e4a93ae2f703e64ce0": {
          "model_module": "@jupyter-widgets/controls",
          "model_name": "HTMLModel",
          "model_module_version": "1.5.0",
          "state": {
            "_dom_classes": [],
            "_model_module": "@jupyter-widgets/controls",
            "_model_module_version": "1.5.0",
            "_model_name": "HTMLModel",
            "_view_count": null,
            "_view_module": "@jupyter-widgets/controls",
            "_view_module_version": "1.5.0",
            "_view_name": "HTMLView",
            "description": "",
            "description_tooltip": null,
            "layout": "IPY_MODEL_7e40bab185f5491ea8cf403c34c0fc56",
            "placeholder": "​",
            "style": "IPY_MODEL_e5583f752cc949568fbe2efe8cea7ae7",
            "value": " 0.99k/0.99k [00:00&lt;00:00, 23.2kB/s]"
          }
        },
        "8a8d06e539914344b097810576c4106a": {
          "model_module": "@jupyter-widgets/base",
          "model_name": "LayoutModel",
          "model_module_version": "1.2.0",
          "state": {
            "_model_module": "@jupyter-widgets/base",
            "_model_module_version": "1.2.0",
            "_model_name": "LayoutModel",
            "_view_count": null,
            "_view_module": "@jupyter-widgets/base",
            "_view_module_version": "1.2.0",
            "_view_name": "LayoutView",
            "align_content": null,
            "align_items": null,
            "align_self": null,
            "border": null,
            "bottom": null,
            "display": null,
            "flex": null,
            "flex_flow": null,
            "grid_area": null,
            "grid_auto_columns": null,
            "grid_auto_flow": null,
            "grid_auto_rows": null,
            "grid_column": null,
            "grid_gap": null,
            "grid_row": null,
            "grid_template_areas": null,
            "grid_template_columns": null,
            "grid_template_rows": null,
            "height": null,
            "justify_content": null,
            "justify_items": null,
            "left": null,
            "margin": null,
            "max_height": null,
            "max_width": null,
            "min_height": null,
            "min_width": null,
            "object_fit": null,
            "object_position": null,
            "order": null,
            "overflow": null,
            "overflow_x": null,
            "overflow_y": null,
            "padding": null,
            "right": null,
            "top": null,
            "visibility": null,
            "width": null
          }
        },
        "275368c016764f9b8a306d4af4caa257": {
          "model_module": "@jupyter-widgets/base",
          "model_name": "LayoutModel",
          "model_module_version": "1.2.0",
          "state": {
            "_model_module": "@jupyter-widgets/base",
            "_model_module_version": "1.2.0",
            "_model_name": "LayoutModel",
            "_view_count": null,
            "_view_module": "@jupyter-widgets/base",
            "_view_module_version": "1.2.0",
            "_view_name": "LayoutView",
            "align_content": null,
            "align_items": null,
            "align_self": null,
            "border": null,
            "bottom": null,
            "display": null,
            "flex": null,
            "flex_flow": null,
            "grid_area": null,
            "grid_auto_columns": null,
            "grid_auto_flow": null,
            "grid_auto_rows": null,
            "grid_column": null,
            "grid_gap": null,
            "grid_row": null,
            "grid_template_areas": null,
            "grid_template_columns": null,
            "grid_template_rows": null,
            "height": null,
            "justify_content": null,
            "justify_items": null,
            "left": null,
            "margin": null,
            "max_height": null,
            "max_width": null,
            "min_height": null,
            "min_width": null,
            "object_fit": null,
            "object_position": null,
            "order": null,
            "overflow": null,
            "overflow_x": null,
            "overflow_y": null,
            "padding": null,
            "right": null,
            "top": null,
            "visibility": null,
            "width": null
          }
        },
        "095703e680094b52a111717f76dd8b08": {
          "model_module": "@jupyter-widgets/controls",
          "model_name": "DescriptionStyleModel",
          "model_module_version": "1.5.0",
          "state": {
            "_model_module": "@jupyter-widgets/controls",
            "_model_module_version": "1.5.0",
            "_model_name": "DescriptionStyleModel",
            "_view_count": null,
            "_view_module": "@jupyter-widgets/base",
            "_view_module_version": "1.2.0",
            "_view_name": "StyleView",
            "description_width": ""
          }
        },
        "5fb796c39ae44f0bb3edceb8c33801b3": {
          "model_module": "@jupyter-widgets/base",
          "model_name": "LayoutModel",
          "model_module_version": "1.2.0",
          "state": {
            "_model_module": "@jupyter-widgets/base",
            "_model_module_version": "1.2.0",
            "_model_name": "LayoutModel",
            "_view_count": null,
            "_view_module": "@jupyter-widgets/base",
            "_view_module_version": "1.2.0",
            "_view_name": "LayoutView",
            "align_content": null,
            "align_items": null,
            "align_self": null,
            "border": null,
            "bottom": null,
            "display": null,
            "flex": null,
            "flex_flow": null,
            "grid_area": null,
            "grid_auto_columns": null,
            "grid_auto_flow": null,
            "grid_auto_rows": null,
            "grid_column": null,
            "grid_gap": null,
            "grid_row": null,
            "grid_template_areas": null,
            "grid_template_columns": null,
            "grid_template_rows": null,
            "height": null,
            "justify_content": null,
            "justify_items": null,
            "left": null,
            "margin": null,
            "max_height": null,
            "max_width": null,
            "min_height": null,
            "min_width": null,
            "object_fit": null,
            "object_position": null,
            "order": null,
            "overflow": null,
            "overflow_x": null,
            "overflow_y": null,
            "padding": null,
            "right": null,
            "top": null,
            "visibility": null,
            "width": null
          }
        },
        "0edf4592dfe547fb82b894b7fc8205e6": {
          "model_module": "@jupyter-widgets/controls",
          "model_name": "ProgressStyleModel",
          "model_module_version": "1.5.0",
          "state": {
            "_model_module": "@jupyter-widgets/controls",
            "_model_module_version": "1.5.0",
            "_model_name": "ProgressStyleModel",
            "_view_count": null,
            "_view_module": "@jupyter-widgets/base",
            "_view_module_version": "1.2.0",
            "_view_name": "StyleView",
            "bar_color": null,
            "description_width": ""
          }
        },
        "7e40bab185f5491ea8cf403c34c0fc56": {
          "model_module": "@jupyter-widgets/base",
          "model_name": "LayoutModel",
          "model_module_version": "1.2.0",
          "state": {
            "_model_module": "@jupyter-widgets/base",
            "_model_module_version": "1.2.0",
            "_model_name": "LayoutModel",
            "_view_count": null,
            "_view_module": "@jupyter-widgets/base",
            "_view_module_version": "1.2.0",
            "_view_name": "LayoutView",
            "align_content": null,
            "align_items": null,
            "align_self": null,
            "border": null,
            "bottom": null,
            "display": null,
            "flex": null,
            "flex_flow": null,
            "grid_area": null,
            "grid_auto_columns": null,
            "grid_auto_flow": null,
            "grid_auto_rows": null,
            "grid_column": null,
            "grid_gap": null,
            "grid_row": null,
            "grid_template_areas": null,
            "grid_template_columns": null,
            "grid_template_rows": null,
            "height": null,
            "justify_content": null,
            "justify_items": null,
            "left": null,
            "margin": null,
            "max_height": null,
            "max_width": null,
            "min_height": null,
            "min_width": null,
            "object_fit": null,
            "object_position": null,
            "order": null,
            "overflow": null,
            "overflow_x": null,
            "overflow_y": null,
            "padding": null,
            "right": null,
            "top": null,
            "visibility": null,
            "width": null
          }
        },
        "e5583f752cc949568fbe2efe8cea7ae7": {
          "model_module": "@jupyter-widgets/controls",
          "model_name": "DescriptionStyleModel",
          "model_module_version": "1.5.0",
          "state": {
            "_model_module": "@jupyter-widgets/controls",
            "_model_module_version": "1.5.0",
            "_model_name": "DescriptionStyleModel",
            "_view_count": null,
            "_view_module": "@jupyter-widgets/base",
            "_view_module_version": "1.2.0",
            "_view_name": "StyleView",
            "description_width": ""
          }
        }
      }
    }
  },
  "cells": [
    {
      "cell_type": "markdown",
      "metadata": {
        "id": "view-in-github",
        "colab_type": "text"
      },
      "source": [
        "<a href=\"https://colab.research.google.com/github/haleelsada/Cryptweets/blob/main/Cryptweet.ipynb\" target=\"_parent\"><img src=\"https://colab.research.google.com/assets/colab-badge.svg\" alt=\"Open In Colab\"/></a>"
      ]
    },
    {
      "cell_type": "markdown",
      "source": [
        "# **Cryptweet**\n",
        "\n",
        "**Integrating Twitter API with huggingface transformers to predict future price of a cryptocurrency**"
      ],
      "metadata": {
        "id": "GaKlMEgSaUfW"
      }
    },
    {
      "cell_type": "code",
      "execution_count": 22,
      "metadata": {
        "id": "ZVbnKJe9aQiG"
      },
      "outputs": [],
      "source": [
        "!pip -q install transformers\n",
        "\n",
        "import tweepy\n",
        "from transformers import pipeline\n",
        "import json\n",
        "import pandas,numpy"
      ]
    },
    {
      "cell_type": "code",
      "source": [
        "from tweepy.auth import OAuthHandler\n",
        "\n",
        "auth = OAuthHandler('t6d8uj4w9P6DjrNSmfSd42gEI', 'ZLcVXunCbN6NO4rUup6vTR33rO32epm0LFHLkzFLZnhjbQmQzZ')\n",
        "auth.set_access_token('1405483945379074054-ktOMmQ6HUcZwzOxiHfjcFmP74hkTn5', 'hV792qfEAuJcvZmkzmoMf61qaaSnoV8D2YiIFYjzAgr06')\n",
        "\n",
        "\n",
        "api = tweepy.API(auth,wait_on_rate_limit=True)"
      ],
      "metadata": {
        "id": "k121o5gGbORs"
      },
      "execution_count": 5,
      "outputs": []
    },
    {
      "cell_type": "code",
      "source": [
        "tweets=tweepy.Cursor(api.search, \"giveaway\",result_type='popular',tweet_mode=\"extended\",count=100).items(200)\n",
        "j=0\n",
        "tweet=[]\n",
        "for _ in range(10):\n",
        "  for i in tweepy.Cursor(api.search, \"#ethereum\",tweet_mode=\"extended\",count=100).items(300):\n",
        "    i = json.dumps(i._json)\n",
        "    i = json.loads(i)\n",
        "    if i['full_text'] not in tweet:\n",
        "      tweet.append(i['full_text'])\n",
        "len(tweet)\n"
      ],
      "metadata": {
        "colab": {
          "base_uri": "https://localhost:8080/"
        },
        "id": "EoCN5MGSb_c3",
        "outputId": "ceff5417-c911-473d-a16b-eb75783a9c9f"
      },
      "execution_count": 50,
      "outputs": [
        {
          "output_type": "execute_result",
          "data": {
            "text/plain": [
              "163"
            ]
          },
          "metadata": {},
          "execution_count": 50
        }
      ]
    },
    {
      "cell_type": "code",
      "source": [
        "len(tweet)"
      ],
      "metadata": {
        "colab": {
          "base_uri": "https://localhost:8080/"
        },
        "id": "JGsgBUC3psYS",
        "outputId": "9cc1f38a-535a-4184-a940-342cdf25173e"
      },
      "execution_count": 33,
      "outputs": [
        {
          "output_type": "execute_result",
          "data": {
            "text/plain": [
              "139"
            ]
          },
          "metadata": {},
          "execution_count": 33
        }
      ]
    },
    {
      "cell_type": "code",
      "source": [
        "for j in i:\n",
        "  print(j,i[j])"
      ],
      "metadata": {
        "colab": {
          "base_uri": "https://localhost:8080/"
        },
        "id": "7D4FHe3wp2OI",
        "outputId": "9615d464-68cd-4fae-c4ed-8829be815dbb"
      },
      "execution_count": 34,
      "outputs": [
        {
          "output_type": "stream",
          "name": "stdout",
          "text": [
            "created_at Sat Apr 16 13:52:55 +0000 2022\n",
            "id 1515327378465173510\n",
            "id_str 1515327378465173510\n",
            "full_text RT @antcolonyonmars: #Crofam #Defi #Nft #web3gaming\n",
            "\n",
            "Final few days to join the Migration to #Ethereum with @Billyracxx\n",
            "  \n",
            "Get your #Creatu…\n",
            "truncated False\n",
            "display_text_range [0, 140]\n",
            "entities {'hashtags': [{'text': 'Crofam', 'indices': [21, 28]}, {'text': 'Defi', 'indices': [29, 34]}, {'text': 'Nft', 'indices': [35, 39]}, {'text': 'web3gaming', 'indices': [40, 51]}, {'text': 'Ethereum', 'indices': [93, 102]}], 'symbols': [], 'user_mentions': [{'screen_name': 'antcolonyonmars', 'name': 'pAiNTer', 'id': 1455559883915411462, 'id_str': '1455559883915411462', 'indices': [3, 19]}, {'screen_name': 'Billyracxx', 'name': 'CULT LEADER', 'id': 254841263, 'id_str': '254841263', 'indices': [108, 119]}], 'urls': []}\n",
            "metadata {'iso_language_code': 'en', 'result_type': 'recent'}\n",
            "source <a href=\"http://twitter.com/download/iphone\" rel=\"nofollow\">Twitter for iPhone</a>\n",
            "in_reply_to_status_id None\n",
            "in_reply_to_status_id_str None\n",
            "in_reply_to_user_id None\n",
            "in_reply_to_user_id_str None\n",
            "in_reply_to_screen_name None\n",
            "user {'id': 1183499287797358592, 'id_str': '1183499287797358592', 'name': 'Shero', 'screen_name': 'sherwaano', 'location': 'Oslo, Norge ', 'description': 'NFT Collector. $BOSON $CRO #Loadedlions #Creaturegang', 'url': None, 'entities': {'description': {'urls': []}}, 'protected': False, 'followers_count': 554, 'friends_count': 468, 'listed_count': 4, 'created_at': 'Sun Oct 13 21:46:40 +0000 2019', 'favourites_count': 1128, 'utc_offset': None, 'time_zone': None, 'geo_enabled': True, 'verified': False, 'statuses_count': 281, 'lang': None, 'contributors_enabled': False, 'is_translator': False, 'is_translation_enabled': False, 'profile_background_color': 'F5F8FA', 'profile_background_image_url': None, 'profile_background_image_url_https': None, 'profile_background_tile': False, 'profile_image_url': 'http://pbs.twimg.com/profile_images/1506023334710067211/7h73A10R_normal.jpg', 'profile_image_url_https': 'https://pbs.twimg.com/profile_images/1506023334710067211/7h73A10R_normal.jpg', 'profile_banner_url': 'https://pbs.twimg.com/profile_banners/1183499287797358592/1591612847', 'profile_link_color': '1DA1F2', 'profile_sidebar_border_color': 'C0DEED', 'profile_sidebar_fill_color': 'DDEEF6', 'profile_text_color': '333333', 'profile_use_background_image': True, 'has_extended_profile': True, 'default_profile': True, 'default_profile_image': False, 'following': False, 'follow_request_sent': False, 'notifications': False, 'translator_type': 'none', 'withheld_in_countries': []}\n",
            "geo None\n",
            "coordinates None\n",
            "place None\n",
            "contributors None\n",
            "retweeted_status {'created_at': 'Sat Apr 16 13:07:44 +0000 2022', 'id': 1515316007539298306, 'id_str': '1515316007539298306', 'full_text': '#Crofam #Defi #Nft #web3gaming\\n\\nFinal few days to join the Migration to #Ethereum with @Billyracxx\\n  \\nGet your #Creaturesxcl from #Ebisusbay before we depart ✈\\n\\n#Cloning and #Metaverse Flight takes off Soon https://t.co/WjxiQbePDj', 'truncated': False, 'display_text_range': [0, 206], 'entities': {'hashtags': [{'text': 'Crofam', 'indices': [0, 7]}, {'text': 'Defi', 'indices': [8, 13]}, {'text': 'Nft', 'indices': [14, 18]}, {'text': 'web3gaming', 'indices': [19, 30]}, {'text': 'Ethereum', 'indices': [72, 81]}, {'text': 'Creaturesxcl', 'indices': [111, 124]}, {'text': 'Ebisusbay', 'indices': [130, 140]}, {'text': 'Cloning', 'indices': [161, 169]}, {'text': 'Metaverse', 'indices': [174, 184]}], 'symbols': [], 'user_mentions': [{'screen_name': 'Billyracxx', 'name': 'CULT LEADER', 'id': 254841263, 'id_str': '254841263', 'indices': [87, 98]}], 'urls': [], 'media': [{'id': 1515315887703838722, 'id_str': '1515315887703838722', 'indices': [207, 230], 'media_url': 'http://pbs.twimg.com/ext_tw_video_thumb/1515315887703838722/pu/img/ittaxrzSITXzpK2R.jpg', 'media_url_https': 'https://pbs.twimg.com/ext_tw_video_thumb/1515315887703838722/pu/img/ittaxrzSITXzpK2R.jpg', 'url': 'https://t.co/WjxiQbePDj', 'display_url': 'pic.twitter.com/WjxiQbePDj', 'expanded_url': 'https://twitter.com/antcolonyonmars/status/1515316007539298306/video/1', 'type': 'photo', 'sizes': {'small': {'w': 680, 'h': 364, 'resize': 'fit'}, 'thumb': {'w': 150, 'h': 150, 'resize': 'crop'}, 'medium': {'w': 1200, 'h': 643, 'resize': 'fit'}, 'large': {'w': 1280, 'h': 686, 'resize': 'fit'}}}]}, 'extended_entities': {'media': [{'id': 1515315887703838722, 'id_str': '1515315887703838722', 'indices': [207, 230], 'media_url': 'http://pbs.twimg.com/ext_tw_video_thumb/1515315887703838722/pu/img/ittaxrzSITXzpK2R.jpg', 'media_url_https': 'https://pbs.twimg.com/ext_tw_video_thumb/1515315887703838722/pu/img/ittaxrzSITXzpK2R.jpg', 'url': 'https://t.co/WjxiQbePDj', 'display_url': 'pic.twitter.com/WjxiQbePDj', 'expanded_url': 'https://twitter.com/antcolonyonmars/status/1515316007539298306/video/1', 'type': 'video', 'sizes': {'small': {'w': 680, 'h': 364, 'resize': 'fit'}, 'thumb': {'w': 150, 'h': 150, 'resize': 'crop'}, 'medium': {'w': 1200, 'h': 643, 'resize': 'fit'}, 'large': {'w': 1280, 'h': 686, 'resize': 'fit'}}, 'video_info': {'aspect_ratio': [640, 343], 'duration_millis': 60379, 'variants': [{'content_type': 'application/x-mpegURL', 'url': 'https://video.twimg.com/ext_tw_video/1515315887703838722/pu/pl/WXvHk7rZS063yBVX.m3u8?tag=12&container=fmp4'}, {'bitrate': 832000, 'content_type': 'video/mp4', 'url': 'https://video.twimg.com/ext_tw_video/1515315887703838722/pu/vid/670x360/w8tcgdM-AaaokK2Y.mp4?tag=12'}, {'bitrate': 256000, 'content_type': 'video/mp4', 'url': 'https://video.twimg.com/ext_tw_video/1515315887703838722/pu/vid/502x270/JDJK1JC4CnawyaE6.mp4?tag=12'}, {'bitrate': 2176000, 'content_type': 'video/mp4', 'url': 'https://video.twimg.com/ext_tw_video/1515315887703838722/pu/vid/1280x686/bWchEP8ETyNfBG4N.mp4?tag=12'}]}, 'additional_media_info': {'monetizable': False}}]}, 'metadata': {'iso_language_code': 'en', 'result_type': 'recent'}, 'source': '<a href=\"http://twitter.com/download/android\" rel=\"nofollow\">Twitter for Android</a>', 'in_reply_to_status_id': None, 'in_reply_to_status_id_str': None, 'in_reply_to_user_id': None, 'in_reply_to_user_id_str': None, 'in_reply_to_screen_name': None, 'user': {'id': 1455559883915411462, 'id_str': '1455559883915411462', 'name': 'pAiNTer', 'screen_name': 'antcolonyonmars', 'location': '', 'description': 'SIGN UP $ CODES\\n\\nhttps://t.co/nPiVyt4xMn\\n\\nhttps://t.co/OZO2GbVjfA \\n#CRO #Cronos #cryptocom #FFTB\\n#Nft #Ebisusbay #Cronoschain', 'url': None, 'entities': {'description': {'urls': [{'url': 'https://t.co/nPiVyt4xMn', 'expanded_url': 'https://crypto.com/exch/bbs22watye', 'display_url': 'crypto.com/exch/bbs22watye', 'indices': [17, 40]}, {'url': 'https://t.co/OZO2GbVjfA', 'expanded_url': 'https://crypto.com/app/bbs22watye', 'display_url': 'crypto.com/app/bbs22watye', 'indices': [42, 65]}]}}, 'protected': False, 'followers_count': 1030, 'friends_count': 1726, 'listed_count': 11, 'created_at': 'Tue Nov 02 15:38:27 +0000 2021', 'favourites_count': 3289, 'utc_offset': None, 'time_zone': None, 'geo_enabled': False, 'verified': False, 'statuses_count': 1211, 'lang': None, 'contributors_enabled': False, 'is_translator': False, 'is_translation_enabled': False, 'profile_background_color': 'F5F8FA', 'profile_background_image_url': None, 'profile_background_image_url_https': None, 'profile_background_tile': False, 'profile_image_url': 'http://pbs.twimg.com/profile_images/1514498712583692289/6vfPOlLo_normal.jpg', 'profile_image_url_https': 'https://pbs.twimg.com/profile_images/1514498712583692289/6vfPOlLo_normal.jpg', 'profile_banner_url': 'https://pbs.twimg.com/profile_banners/1455559883915411462/1648904709', 'profile_link_color': '1DA1F2', 'profile_sidebar_border_color': 'C0DEED', 'profile_sidebar_fill_color': 'DDEEF6', 'profile_text_color': '333333', 'profile_use_background_image': True, 'has_extended_profile': False, 'default_profile': True, 'default_profile_image': False, 'following': False, 'follow_request_sent': False, 'notifications': False, 'translator_type': 'none', 'withheld_in_countries': []}, 'geo': None, 'coordinates': None, 'place': None, 'contributors': None, 'is_quote_status': False, 'retweet_count': 2, 'favorite_count': 9, 'favorited': False, 'retweeted': False, 'possibly_sensitive': False, 'lang': 'en'}\n",
            "is_quote_status False\n",
            "retweet_count 2\n",
            "favorite_count 0\n",
            "favorited False\n",
            "retweeted False\n",
            "lang en\n"
          ]
        }
      ]
    },
    {
      "cell_type": "code",
      "source": [
        "dir(api)\n"
      ],
      "metadata": {
        "colab": {
          "base_uri": "https://localhost:8080/"
        },
        "id": "HyK6TXvccuXq",
        "outputId": "0145a827-fec0-475a-de33-ada9a77581b6"
      },
      "execution_count": 10,
      "outputs": [
        {
          "output_type": "execute_result",
          "data": {
            "text/plain": [
              "['__class__',\n",
              " '__delattr__',\n",
              " '__dict__',\n",
              " '__dir__',\n",
              " '__doc__',\n",
              " '__eq__',\n",
              " '__format__',\n",
              " '__ge__',\n",
              " '__getattribute__',\n",
              " '__gt__',\n",
              " '__hash__',\n",
              " '__init__',\n",
              " '__init_subclass__',\n",
              " '__le__',\n",
              " '__lt__',\n",
              " '__module__',\n",
              " '__ne__',\n",
              " '__new__',\n",
              " '__reduce__',\n",
              " '__reduce_ex__',\n",
              " '__repr__',\n",
              " '__setattr__',\n",
              " '__sizeof__',\n",
              " '__str__',\n",
              " '__subclasshook__',\n",
              " '__weakref__',\n",
              " '_add_list_members',\n",
              " '_lookup_friendships',\n",
              " '_pack_image',\n",
              " '_remove_list_members',\n",
              " '_send_direct_message',\n",
              " 'add_list_member',\n",
              " 'add_list_members',\n",
              " 'api_root',\n",
              " 'auth',\n",
              " 'blocks',\n",
              " 'blocks_ids',\n",
              " 'cache',\n",
              " 'cached_result',\n",
              " 'compression',\n",
              " 'configuration',\n",
              " 'create_block',\n",
              " 'create_favorite',\n",
              " 'create_friendship',\n",
              " 'create_list',\n",
              " 'create_media_metadata',\n",
              " 'create_mute',\n",
              " 'create_saved_search',\n",
              " 'destroy_block',\n",
              " 'destroy_direct_message',\n",
              " 'destroy_favorite',\n",
              " 'destroy_friendship',\n",
              " 'destroy_list',\n",
              " 'destroy_mute',\n",
              " 'destroy_saved_search',\n",
              " 'destroy_status',\n",
              " 'favorites',\n",
              " 'followers',\n",
              " 'followers_ids',\n",
              " 'friends',\n",
              " 'friends_ids',\n",
              " 'friendships_incoming',\n",
              " 'friendships_outgoing',\n",
              " 'geo_id',\n",
              " 'geo_search',\n",
              " 'geo_similar_places',\n",
              " 'get_direct_message',\n",
              " 'get_list',\n",
              " 'get_oembed',\n",
              " 'get_saved_search',\n",
              " 'get_settings',\n",
              " 'get_status',\n",
              " 'get_user',\n",
              " 'home_timeline',\n",
              " 'host',\n",
              " 'last_response',\n",
              " 'list_direct_messages',\n",
              " 'list_members',\n",
              " 'list_subscribers',\n",
              " 'list_timeline',\n",
              " 'lists_all',\n",
              " 'lists_memberships',\n",
              " 'lists_subscriptions',\n",
              " 'lookup_friendships',\n",
              " 'lookup_users',\n",
              " 'me',\n",
              " 'media_upload',\n",
              " 'mentions_timeline',\n",
              " 'mutes',\n",
              " 'mutes_ids',\n",
              " 'parser',\n",
              " 'proxy',\n",
              " 'rate_limit_status',\n",
              " 'related_results',\n",
              " 'remove_list_member',\n",
              " 'remove_list_members',\n",
              " 'report_spam',\n",
              " 'retry_count',\n",
              " 'retry_delay',\n",
              " 'retry_errors',\n",
              " 'retweet',\n",
              " 'retweeters',\n",
              " 'retweets',\n",
              " 'retweets_of_me',\n",
              " 'reverse_geocode',\n",
              " 'saved_searches',\n",
              " 'search',\n",
              " 'search_30_day',\n",
              " 'search_full_archive',\n",
              " 'search_host',\n",
              " 'search_root',\n",
              " 'search_users',\n",
              " 'send_direct_message',\n",
              " 'set_settings',\n",
              " 'show_friendship',\n",
              " 'show_list_member',\n",
              " 'show_list_subscriber',\n",
              " 'statuses_lookup',\n",
              " 'subscribe_list',\n",
              " 'supported_languages',\n",
              " 'timeout',\n",
              " 'trends_available',\n",
              " 'trends_closest',\n",
              " 'trends_place',\n",
              " 'unretweet',\n",
              " 'unsubscribe_list',\n",
              " 'update_list',\n",
              " 'update_profile',\n",
              " 'update_profile_banner',\n",
              " 'update_profile_image',\n",
              " 'update_status',\n",
              " 'update_with_media',\n",
              " 'upload_host',\n",
              " 'upload_root',\n",
              " 'user_timeline',\n",
              " 'verify_credentials',\n",
              " 'wait_on_rate_limit',\n",
              " 'wait_on_rate_limit_notify']"
            ]
          },
          "metadata": {},
          "execution_count": 10
        }
      ]
    },
    {
      "cell_type": "code",
      "source": [
        "!pip3 install emoji\n",
        "sentimentmodel=pipeline(model=\"finiteautomata/bertweet-base-sentiment-analysis\")\n",
        "\n"
      ],
      "metadata": {
        "colab": {
          "base_uri": "https://localhost:8080/",
          "height": 303,
          "referenced_widgets": [
            "7a1d500381c34d2e8395987168e6fd44",
            "ce7c47b9ae064137a4c4c32e34704e37",
            "81127da8e6c647f68bc56628e50adfc8",
            "e1799f49810344e4a93ae2f703e64ce0",
            "8a8d06e539914344b097810576c4106a",
            "275368c016764f9b8a306d4af4caa257",
            "095703e680094b52a111717f76dd8b08",
            "5fb796c39ae44f0bb3edceb8c33801b3",
            "0edf4592dfe547fb82b894b7fc8205e6",
            "7e40bab185f5491ea8cf403c34c0fc56",
            "e5583f752cc949568fbe2efe8cea7ae7"
          ]
        },
        "id": "qyJHmbW-dTzG",
        "outputId": "15feb7a2-60f4-4fee-f528-4f89c53466d2"
      },
      "execution_count": 43,
      "outputs": [
        {
          "output_type": "stream",
          "name": "stdout",
          "text": [
            "Collecting emoji\n",
            "  Downloading emoji-1.7.0.tar.gz (175 kB)\n",
            "\u001b[?25l\r\u001b[K     |█▉                              | 10 kB 19.1 MB/s eta 0:00:01\r\u001b[K     |███▊                            | 20 kB 11.3 MB/s eta 0:00:01\r\u001b[K     |█████▋                          | 30 kB 9.0 MB/s eta 0:00:01\r\u001b[K     |███████▌                        | 40 kB 8.1 MB/s eta 0:00:01\r\u001b[K     |█████████▍                      | 51 kB 4.3 MB/s eta 0:00:01\r\u001b[K     |███████████▏                    | 61 kB 5.1 MB/s eta 0:00:01\r\u001b[K     |█████████████                   | 71 kB 5.5 MB/s eta 0:00:01\r\u001b[K     |███████████████                 | 81 kB 5.6 MB/s eta 0:00:01\r\u001b[K     |████████████████▉               | 92 kB 6.2 MB/s eta 0:00:01\r\u001b[K     |██████████████████▊             | 102 kB 5.0 MB/s eta 0:00:01\r\u001b[K     |████████████████████▌           | 112 kB 5.0 MB/s eta 0:00:01\r\u001b[K     |██████████████████████▍         | 122 kB 5.0 MB/s eta 0:00:01\r\u001b[K     |████████████████████████▎       | 133 kB 5.0 MB/s eta 0:00:01\r\u001b[K     |██████████████████████████▏     | 143 kB 5.0 MB/s eta 0:00:01\r\u001b[K     |████████████████████████████    | 153 kB 5.0 MB/s eta 0:00:01\r\u001b[K     |█████████████████████████████▉  | 163 kB 5.0 MB/s eta 0:00:01\r\u001b[K     |███████████████████████████████▊| 174 kB 5.0 MB/s eta 0:00:01\r\u001b[K     |████████████████████████████████| 175 kB 5.0 MB/s \n",
            "\u001b[?25hBuilding wheels for collected packages: emoji\n",
            "  Building wheel for emoji (setup.py) ... \u001b[?25l\u001b[?25hdone\n",
            "  Created wheel for emoji: filename=emoji-1.7.0-py3-none-any.whl size=171046 sha256=c57763218fd0c5815d55f4476ba9506597bae4e4f43b9cd2dc6c3cbd941a802c\n",
            "  Stored in directory: /root/.cache/pip/wheels/8a/4e/b6/57b01db010d17ef6ea9b40300af725ef3e210cb1acfb7ac8b6\n",
            "Successfully built emoji\n",
            "Installing collected packages: emoji\n",
            "Successfully installed emoji-1.7.0\n"
          ]
        },
        {
          "output_type": "display_data",
          "data": {
            "text/plain": [
              "Downloading:   0%|          | 0.00/0.99k [00:00<?, ?B/s]"
            ],
            "application/vnd.jupyter.widget-view+json": {
              "version_major": 2,
              "version_minor": 0,
              "model_id": "7a1d500381c34d2e8395987168e6fd44"
            }
          },
          "metadata": {}
        }
      ]
    },
    {
      "cell_type": "code",
      "source": [
        "data=['the movie was good,but could have been better ']\n",
        "sentimentmodel(data)"
      ],
      "metadata": {
        "colab": {
          "base_uri": "https://localhost:8080/"
        },
        "id": "GdQC-rsNrw0W",
        "outputId": "16c83108-a264-4889-be4e-0a5a9b86b90d"
      },
      "execution_count": 48,
      "outputs": [
        {
          "output_type": "execute_result",
          "data": {
            "text/plain": [
              "[{'label': 'POS', 'score': 0.903214156627655}]"
            ]
          },
          "metadata": {},
          "execution_count": 48
        }
      ]
    },
    {
      "cell_type": "code",
      "source": [
        ""
      ],
      "metadata": {
        "id": "RScavGIYsyXN"
      },
      "execution_count": null,
      "outputs": []
    }
  ]
}