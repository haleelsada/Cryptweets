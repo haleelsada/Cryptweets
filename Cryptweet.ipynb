{
  "nbformat": 4,
  "nbformat_minor": 0,
  "metadata": {
    "colab": {
      "name": "Cryptweet.ipynb",
      "provenance": [],
      "authorship_tag": "ABX9TyOz0w196tSRiVoKj5PaTnw5",
      "include_colab_link": true
    },
    "kernelspec": {
      "name": "python3",
      "display_name": "Python 3"
    },
    "language_info": {
      "name": "python"
    }
  },
  "cells": [
    {
      "cell_type": "markdown",
      "metadata": {
        "id": "view-in-github",
        "colab_type": "text"
      },
      "source": [
        "<a href=\"https://colab.research.google.com/github/haleelsada/Cryptweets/blob/main/Cryptweet.ipynb\" target=\"_parent\"><img src=\"https://colab.research.google.com/assets/colab-badge.svg\" alt=\"Open In Colab\"/></a>"
      ]
    },
    {
      "cell_type": "markdown",
      "source": [
        "# **Cryptweet**\n",
        "\n",
        "**Integrating Twitter API with huggingface transformers to predict future price of a cryptocurrency**"
      ],
      "metadata": {
        "id": "GaKlMEgSaUfW"
      }
    },
    {
      "cell_type": "code",
      "execution_count": 5,
      "metadata": {
        "colab": {
          "base_uri": "https://localhost:8080/"
        },
        "id": "ZVbnKJe9aQiG",
        "outputId": "e8293b0a-9e31-453e-e2a7-7e050fbdb5a5"
      },
      "outputs": [
        {
          "output_type": "stream",
          "name": "stdout",
          "text": [
            "Requirement already satisfied: tweepy in /usr/local/lib/python3.7/dist-packages (4.8.0)\n",
            "Requirement already satisfied: oauthlib<4,>=3.2.0 in /usr/local/lib/python3.7/dist-packages (from tweepy) (3.2.0)\n",
            "Requirement already satisfied: requests-oauthlib<2,>=1.2.0 in /usr/local/lib/python3.7/dist-packages (from tweepy) (1.3.1)\n",
            "Requirement already satisfied: requests<3,>=2.27.0 in /usr/local/lib/python3.7/dist-packages (from tweepy) (2.27.1)\n",
            "Requirement already satisfied: charset-normalizer~=2.0.0 in /usr/local/lib/python3.7/dist-packages (from requests<3,>=2.27.0->tweepy) (2.0.12)\n",
            "Requirement already satisfied: urllib3<1.27,>=1.21.1 in /usr/local/lib/python3.7/dist-packages (from requests<3,>=2.27.0->tweepy) (1.24.3)\n",
            "Requirement already satisfied: idna<4,>=2.5 in /usr/local/lib/python3.7/dist-packages (from requests<3,>=2.27.0->tweepy) (2.10)\n",
            "Requirement already satisfied: certifi>=2017.4.17 in /usr/local/lib/python3.7/dist-packages (from requests<3,>=2.27.0->tweepy) (2021.10.8)\n"
          ]
        }
      ],
      "source": [
        "# modules for twitter api manipulation\n",
        "!pip install --upgrade tweepy\n",
        "import tweepy\n",
        "import json\n",
        "import pandas,numpy"
      ]
    },
    {
      "cell_type": "code",
      "source": [
        "# import necassery modules for mood analysis\n",
        "from transformers import pipeline\n",
        "!pip -q install transformers\n",
        "!pip3 install emoji\n",
        "sentimentmodel=pipeline(model=\"finiteautomata/bertweet-base-sentiment-analysis\")\n",
        "\n"
      ],
      "metadata": {
        "id": "I9vt38x23leG"
      },
      "execution_count": null,
      "outputs": []
    },
    {
      "cell_type": "code",
      "source": [
        "tweepy.__version__"
      ],
      "metadata": {
        "colab": {
          "base_uri": "https://localhost:8080/",
          "height": 40
        },
        "id": "lE6QHuRfuboU",
        "outputId": "f2d232d2-25bd-4f64-a832-79c232b25dc6"
      },
      "execution_count": 6,
      "outputs": [
        {
          "output_type": "execute_result",
          "data": {
            "text/plain": [
              "'4.8.0'"
            ],
            "application/vnd.google.colaboratory.intrinsic+json": {
              "type": "string"
            }
          },
          "metadata": {},
          "execution_count": 6
        }
      ]
    },
    {
      "cell_type": "code",
      "source": [
        "from tweepy.auth import OAuthHandler\n",
        "\n",
        "auth = OAuthHandler('t6d8uj4w9P6DjrNSmfSd42gEI', 'ZLcVXunCbN6NO4rUup6vTR33rO32epm0LFHLkzFLZnhjbQmQzZ')\n",
        "auth.set_access_token('1405483945379074054-ktOMmQ6HUcZwzOxiHfjcFmP74hkTn5', 'hV792qfEAuJcvZmkzmoMf61qaaSnoV8D2YiIFYjzAgr06')\n",
        "\n",
        "\n",
        "api = tweepy.API(auth,wait_on_rate_limit=True)"
      ],
      "metadata": {
        "id": "k121o5gGbORs"
      },
      "execution_count": 7,
      "outputs": []
    },
    {
      "cell_type": "code",
      "source": [
        "# extract the tweets with the given keyword\n",
        "\n",
        "def tweextractor(keyword):\n",
        "\n",
        "  tweet=[]      #list to store tweets extracted\n",
        "\n",
        "  for i in tweepy.Cursor(api.search_tweets, \"hdfc\",tweet_mode=\"extended\",lang='en',result_type='recent',count=100).items(400):\n",
        "    i = json.dumps(i._json)\n",
        "    i = json.loads(i)\n",
        "    if i['full_text'] not in tweet:\n",
        "      tweet.append(i['full_text'])\n",
        "  print(len(tweet),'tweets total tweets found')\n",
        "  return tweet\n"
      ],
      "metadata": {
        "colab": {
          "base_uri": "https://localhost:8080/"
        },
        "id": "EoCN5MGSb_c3",
        "outputId": "fbc82e48-8641-4f7e-cd6d-bcfb39e76611"
      },
      "execution_count": 94,
      "outputs": [
        {
          "output_type": "execute_result",
          "data": {
            "text/plain": [
              "240"
            ]
          },
          "metadata": {},
          "execution_count": 94
        }
      ]
    },
    {
      "cell_type": "code",
      "source": [
        "tweet"
      ],
      "metadata": {
        "colab": {
          "base_uri": "https://localhost:8080/"
        },
        "id": "5FrIJlC228vu",
        "outputId": "0cdb6764-7b2f-457a-fbd3-a3c9dc93f7f0"
      },
      "execution_count": 95,
      "outputs": [
        {
          "output_type": "execute_result",
          "data": {
            "text/plain": [
              "['RT @kothariabhishek: .@HDFC_Bank in concall has said that they intend to be within 1-2 kms reach of customers from current level of 5-6kms…',\n",
              " '@Equiideas09 @Ruchi_Mahi any decline is a buying opportunity both in HDFC Bank &amp; Infosys...',\n",
              " 'RT @AdityaD_Shah: HDFC Bank:-Stable\\n\\n🏦Loan growth at 20.8%\\n🏦Slippages at a multi-quarter low of 3312cr\\n🏦Gross NPAs improve to 1.12%\\n🏦Profit…',\n",
              " '@HDFC_Bank Dear user your HDFC Bank Account will be suspended! today please  update your PAN CARD click here to link https://t.co/dCcaRNfCJo https://t.co/rQ4sv9q6uE',\n",
              " '@saga_wealth @HDFC_Bank Me too loyal HDFC bank share holder',\n",
              " 'In the last financial year HDFC bank has added 260000 cr loan to its outstanding advance .Imagine how much  loans this bank has sanctioned in one year.',\n",
              " \"RT @idesibanda: HDFC opened 563 new Branches in Q4'22, While Public Banks merging/closing physical branches to satisfy fairy tale of curren…\",\n",
              " '@HDFCBankNews @HDFC_Bank Future is absolutely negative for HDFC bank. Customer satisfaction is absolutely Zero. Hdfc bank with irresponsible team in their Bank',\n",
              " 'RT @PRSundar64: On Monday, HDFC Bank trade is all about who is going to blink first, shorters or longers.',\n",
              " \"RT @AdityaD_Shah: One channel reports HDFC Bank's result as weak.\\nOne channel reports HDFC Bank's result as strong.\\n\\nContrasting opinions i…\",\n",
              " 'RT @AdityaD_Shah: Last year HDFC Bank added\\n\\n2,36,000cr of loans!\\n\\nThat is nearly 3 Bandhan Banks added in just 1 year!\\n\\nWhen HDFC merges i…',\n",
              " 'HDFC Bank Q4 Results | Profit raises 23% YoY to Rs 10,055 crore and NII rises 10%\\n#Share #sharemarket #StockMarketindia #BTC #BNB \\nhttps://t.co/bcn8UYEOPW https://t.co/MPvQ5JNBrb',\n",
              " \"When Banks become spammers,I have received about 8-10 SMS', Emails, Notifications combined in a day. @HDFCBank_Cares @HDFC_Bank Have some standard, if you think irritating a customer with your marketing get you business,think again.@TRAI Have some policies for  these spammy banks\",\n",
              " 'HDFC Bank saw its net profit increase 23% over the year before to Rs 10,055.18 crore in the three months ended March. #Q4WithBQ\\nhttps://t.co/KlHHdLOsl1',\n",
              " '@HDFC_Bank kindly share concern authority email I’d for registration of complaint related to corporate banking @RBI',\n",
              " 'RT @livemint: #Earnings | #HDFCBank earned a net profit of ₹10,055.2 crores on a standalone basis for the quarter ending March 2022 (Q4FY22…',\n",
              " '@kothariabhishek @HDFC_Bank Why don’t they go to remote places, the interior villages?',\n",
              " 'RT @MFSahiHai: Shyamali Basu, Executive Vice President &amp; Head – Products, Training &amp; Marketing at HDFC AMC, has been in the Finance Industr…',\n",
              " '@HDFCBank_Cares @HDFC_Bank \\nHdfc bank Shyamal Branch. Have nade bluff with our current account. Hdfc bank is not promoting us for using our own funds since 8th april with no reasons. Giving silly excuses and missing responsible staff in branch.Using our funds and not reverting',\n",
              " '@Mavericktrade14 dekho yaar stk mkt mein kuch bhi ho sakta hai.. but in my experience whenever any company announces a big corporate action like merger/de-merger.. the stks tend to go rangebound until the merger date.. imho hdfc will mostly be doing timepass for nxt 6-18 months',\n",
              " '@agario_16 For cashback: Millennia &gt; Regalia\\nFor hotels/flights: Regalia &gt; Millennia\\n\\nhttps://t.co/FEUt5zHqet',\n",
              " '@kothariabhishek @HDFC_Bank In the era of digital, That wld mean more cost of doing business....!!',\n",
              " 'Really this is how someone defends lower than expected results!!! HDFC Bank Bhakt https://t.co/iHEGGWiqLL',\n",
              " 'RT @ETNOWlive: #EarningsWithETNOW | HDFC Bank reports net profit of Rs 10,055 cr in #Q4FY22, a growth of 22.82% YoY,  while NII rises 10.23…',\n",
              " '@PPRT2106 NIFTY, BANKNIFTY, RELIANCE, TCS, HDFC TWINS etc.',\n",
              " \"@artyshruti Last week got a call from HDFC that my insurance policy had matured. Surprisingly i don't have an insurance policy.\",\n",
              " 'RT @theHarshFolio: Long term financials of HDFC bank shows the consistency in both EPS/Book value growth and valuations ascribed by market.…',\n",
              " 'Will be a buying opportunity both in Infy and hdfc bank ???',\n",
              " 'HDFC Bank in concall has said that they intend to be within 1-2 kms reach of customers from current level of 5-6kms and hence, rapid branch expansion plans (Q4, they opened 563 branches)',\n",
              " 'RT @AnishA_Moonka: HDFC Bank added 1.08 lakh crore of advances in a quarter. That’s like 2 RBL Banks or 1 IDFC First Bank in a quarter.',\n",
              " 'HDFC Q4 results Overviews | Buy or Sell | Stock News #Shorts https://t.co/JpT6duJ190 via @YouTube \\n\\n #Shorts #nifty #sensex #trading  #StocksToBuy  #mutualfunds #banknifty #stockstowatch #StocksInNews #HDFCBank #Q4Results #Q4FY22 #HDFC',\n",
              " 'hp all in one desktop\\n“STUDENTS OFFER SALE”\\nSpecial Price for SCHOOL and COLLEGE students\\nBuy Laptop | Desktop | Printers @ Special Price\\nEasy EMI OFFER Available From Bajaj | HDB and HDFC Bank \\nFor More details\\nReach us\\nBARATHI COMPUTERS | SALEM\\nWhatsapp us @ 9750940007\\nCall us https://t.co/9LKYMPCjl1',\n",
              " '@kothariabhishek @HDFC_Bank Bad idea. They should improve their Internet based apps rather than insist on face to face banking. Before Demo, I had not set foot inside a bank for 5 years. After 2014, KYC and stuff meant I had to visit banks numerous times. Still there are loopholes.',\n",
              " '@kothariabhishek @HDFC_Bank Has the HDFC Bank lost it .',\n",
              " 'RT @AshwaniGujral6: Infy Hdfc bank both disappoint, nifty goes for a toss on Monday',\n",
              " 'HDFC Bank Q4 net rises 23% to ₹10,055 cr. on loan growth, lower provisions https://t.co/h5FJsWSL05\\nhttps://t.co/us2j7qIdSD',\n",
              " 'RT @OnFinance_in: HDFC Bank BOARD TO CONSIDER Dividend ON APRIL 23.\\n\\n#HDFCBank #HDFC #StockMarket #invest',\n",
              " 'HDFC Bank BOARD TO CONSIDER Dividend ON APRIL 23.\\n\\n#HDFCBank #HDFC #StockMarket #invest',\n",
              " 'RT @WealthEnrich: 1 Top stock from each sector: \\n\\nBank: Kotak\\nHome Finance: HDFC Ltd\\nNBFC: Bajaj Finance\\nFMCG: Nestle\\nPaints: Asian Paints…',\n",
              " '@GhoshSubhag @AshwaniGujral6 50% correction from current price in Infy and HDFC Bank? Are u crazy??',\n",
              " 'RT @AdityaD_Shah: HDFC Bank on Margins falling to 4%:-\\n\\n🏦Wholesale book is growing faster\\n🏦We are moving to a secured book and lowering the…',\n",
              " 'RT @AdityaD_Shah: Key Number for HDFC Bank\\n\\nProvisions at 3312cr.This is a sharp decline on all fronts.\\n\\nAsset quality stabilizing bodes we…',\n",
              " 'HDFC Bank reports an at all-time low Net Interest Margin of 4% vs 4.1% QoQ. Provision Coverage Ratio improves to 72.7% vs 70.8% QoQ',\n",
              " '@connectgurmeet Review on hdfc bank results ?',\n",
              " '@HDFC_Bank 1223164 - Why there is no reply from grievance officer ? @HDFC_Bank @HDFCBank_Cares',\n",
              " '@Shubhanshugar15 @MyIndusIndBank @ICICIBank @HDFC_Bank @AxisBank @Citibank Bhai their customer service is just for harassing and torturing their customers. They are not here to resolve customer issues they get paid to call 10-20 times a day to customers to upgrade their credit card.',\n",
              " 'Lending major #HDFCBank on Saturday reported a year-on-year rise of 22.8 per cent in net profit for the fourth quarter of #FY22 ended March 31. #Banking @HDFC_Bank \\n\\nhttps://t.co/udBzWiM7zS',\n",
              " 'RT @surabhi_prasad: HDFC Bank standalone net profit for Q4 FY 22 up 22.8% at Rs 10,005.18 crore vs Rs 8,186.51 cr a year ago @businessline',\n",
              " 'Hdfc Bank Results Slightly below Expections\\nBut it has already Fallen 10% from his Merger News High\\nGlobal cues not good, Infosys will open gap down Significantly.\\nSGX Nifty down by 200 points\\nSupport Level 1292-1350\\nResistance 1650-1722\\n#StockMarket #banknifty #HDFCBank #results https://t.co/tAkTwjwUng',\n",
              " 'RT @stockskibaat: @kothariabhishek @HDFC_Bank Abhishek Bhai, why the heck they want to be in 1-2km range when most of the work is now a day…',\n",
              " 'RT @sandipsabharwal: Expecting most analysts to keep on shouting \"BUY\" on #HDFCBank after extremely su optimal results.\\n\\nOn top of that the…',\n",
              " 'HDFC bank result as per my understanding in line as per commentary and growth reported by management.\\n\\nAccording to some news channel is GOOD while for some is BAD .\\n\\nOn Monday carry forwarded hit badly blast 💥 on any side. \\n\\n#investing',\n",
              " '@PatakotaV One should compare relative valuation as well, HDFC Bank BV is among the highest and if there is no growth on key parameters (qoq) price may align alongside of other bank valuation, hence many analyst may see this a wk report',\n",
              " '@kothariabhishek @HDFC_Bank First they have to fix the poor service in their existing branches',\n",
              " '@kothariabhishek @HDFC_Bank Whats the use of new branches? You go to any branch for any transaction, they will say Cant you do it online? New officers are not interested in any damn things except mobile watching. Somehow hdfc loosing  their rank and only uneducat lethargic staff will be responsible for it.',\n",
              " '#HDFCBank #results #banks \\nStronger quarter stronger NII significant decline in NPA gross margins improvement visible \\nMore Over hdfcbank will rock on Monday session \\nBuy on deeps from Tuesday onwards\\nreason #UkraineInvasion will impact global Markets 🚨\\nhttps://t.co/4QJvkWlufG',\n",
              " 'Due to loan growth and lower provisions, HDFC Bank’s fourth quarter net worth increased by 23% to Rs 10,055 crore https://t.co/4SR8HD3g51 #Business #News',\n",
              " 'HDFC Bank results are out, it seems that results are below markets expections...\\nBut, Will market see this as worst is over?',\n",
              " 'RT @HomeLoansByHDFC: Avail HDFC’s Rural Housing Finance to relive your childhood memories by owning a home in the town you grew up in! http…',\n",
              " 'RT @HomeLoansByHDFC: Manage your HDFC Home Loan at your convenience. Login to your online account now https://t.co/ygRQLhL2Go\\n\\n#HDFCHomeLoa…',\n",
              " \"RT @HomeLoansByHDFC: Doesn't matter if a question pops in your head at midnight! Simply chat with us 24X7 and get solutions to all your hom…\",\n",
              " 'RT @CarebyHDFC_HL: IRA at your service! Get your HDFC Home Loan queries answered at the tip of your fingertips. Click to chat https://t.co/…',\n",
              " '@HDFCBank_Cares @DiLiPSiNHJHaLa HDFC credit card is fraud\\nMy husband sagar kuril\\nDues all payment and the card has been deactivated since 2 month and now they send bill by bill after deactivated, I raise the fraud complaint against this bank to lok pal, and I am quiet sure they will help us. \\nSagar 787526007',\n",
              " '@roshantodi @HDFC_Bank @HDFCBank_Cares Nope. At least I continue to see Secure ID image. Watch out!\\nPS: ICYMI the reply to your tweet is from a fake handle masquerading as HDFC Bank. Also watch out!! https://t.co/iaMFTaZtFM',\n",
              " 'RT @kmarkri: Between Jan 22 to match 22 HDFC bank has opened 563 new branches  .amazing',\n",
              " \"@stufflistings @Nitesh805181 are jitne offers hote hain na sab discount karke likhte hain ye, apply to koi ek hi hoga na. SBI pe 2k off, HDFC me 2k off, ICICI pe 5% cashback, they'll write as deducting all 3 values from the main price 😂😂 aisa dekha hai karte hue\",\n",
              " '@HDFC_Bank @HDFCBank_Cares \\n\\nThis fraudster is trying to steal HDFC username/password by sending misleading SMS.\\n\\n@MumbaiPolice \\n@ThaneCityPolice \\n@Navimumpolice \\n@Cyberdost \\n@MahaCyber1 https://t.co/fhFiXZTxLR',\n",
              " '@BCCIdomestic @HDFCBank_Cares HDFC credit card is fraud\\nMy husband sagar kuril\\nDues all payment and the card has been deactivated since 2 month and now they send bill by bill after deactivated, I raise the fraud complaint against this bank to lok pal, and I am quiet sure they will help us. \\nSagar 787526007',\n",
              " '@HDFCBank_Cares deducted ₹500 from my account by turning off auto debit feature from my credit card. Such a low standard stunt. I want to stop using @HDFCBankCare1 for such a fraud by @HDFC_Bank https://t.co/MyTvQcgyHL',\n",
              " 'HDFC bank has come out with decent set of results. Results should always be looked at in terms of macro/micro economic factors along with sector impact. However, price action on Monday will be based on who blink first between shorts/longs. Market may be volatile on Monday',\n",
              " 'RT @Ruchi_Mahi: HDFC Bank\\n\\nBad Bad Result after Infosys\\n\\nNII reported at Rs18,900 cr vs expected Rs19,600 cr\\n\\nTwo heavy weight Nifty stocks…',\n",
              " '#HDFCBank #HDFC \\n\\nAccording to twitter HDFC BANK results seems very bad.. It must get hammered on monday with INFY..\\n\\nBut keeping noise aside lets see what chart says :\\n\\nCheck next tweet https://t.co/zL0sr5IovG',\n",
              " 'RT @sukeerthi_lr: @HomeLoansByHDFC you are hoodwinking us by giving false promises. HDFC expecting non bankers to write emails using bankin…',\n",
              " 'RT @sukeerthi_lr: @HomeLoansByHDFC multiple emails and calls and personal visits to HDFC are going in vain as there is no proper response r…',\n",
              " '@kothariabhishek @HDFC_Bank May be an unpopular opinion considering the market expectations.\\n\\nEPS for the year ending Mar’22 : 66\\nTTM P/E : 22\\nExpected to grow @20-25%\\nMerger is going to earnings accretive \\n\\nWhy wouldn’t an investor buy for PEG ratio of 1. Stock has been flat for 18 months now \\n\\n#HDFCBank',\n",
              " '@HDFCBank_Cares what action have YOU taken for the last 5-10 marketing call numbers that I’ve tweeted?? I’ve promptly intimated 1909, HDFC cares, HDFC bank, blocked numbers and tweeted about the same. https://t.co/QoUkRqRcrX',\n",
              " 'The joint platform to be structured as an Alternative Investment Fund (AIF) and will invest in mid-market residential projects across the country.\\n\\n04 Apr, 2022, 07.12 AM IST\\n\\n#HDFC #LTRealty',\n",
              " '@HomeLoansByHDFC you are hoodwinking us by giving false promises. HDFC expecting non bankers to write emails using banking words for implementing changes in their loan accounts without which the requests will not be accepted as told by HDFC personnel.',\n",
              " 'RT @datta_arvind: HDFC Bank Q4FY2022.\\nConsolidated PAT - Rs 10,475 Cr\\nStandalone PAT    - Rs 10,055 Cr\\nAnyway you at it, the figure is huge…',\n",
              " '@prathgodbole When @HDFC_Bank had hired the new CIO n Group Head ( IT ) Ramesh Lakshminarayanan in September 2020, he promised swift action to improve the IT system but seems nothing has moved here',\n",
              " \"@MunishMittal10 @RBIsays @IndiaSebi @Bajaj_Finserv  Franchisees of HDFC Mutual Funds and Bajaj Finance Ltd. have made our lives miserable. In spite of telling them their services are not needed and please don't call, they make at least 3 to 5 calls. Is there no code of conduct?\",\n",
              " '@Iamsamirarora sir hdfc bank results view?',\n",
              " '@kothariabhishek @HDFC_Bank What is the use of digital banking then and why are people so gung-ho for the digital banking if the top lender says they want physical banking🤔',\n",
              " 'When @HDFC_Bank had hired the new CIO n Group Head ( IT ) Ramesh Lakshminarayanan in September 2020, he promised swift action to improve the IT system but seems nothing has moved here. https://t.co/pbDSR5F98W',\n",
              " 'HDFC Capital, L&amp;T Realty in talks to set up Rs 4,000-cr investment, development platform\\n\\n#HDFC #realty',\n",
              " '@HDFCBank_Cares One more HDFC marketing call Anjali for loans, +91 99201 64835, 16/04/2022',\n",
              " '@Rachit119951 @kothariabhishek @HDFC_Bank Correct',\n",
              " \"@kothariabhishek @HDFC_Bank At the same time hon'ble @DFS_India is hell bent on reduction of branches of Public Sector General Insurance Companies by providing closure targets #Masterstroke @WInsurers @anuragshah_\",\n",
              " '@kothariabhishek @HDFC_Bank Other PSBs will keep Increasing their Non Interest Income through unnecessary Insurance Business &amp; the Actual Business (Core) will be taken away by Pvt Peers in No Time @kmarkri @idesibanda',\n",
              " '@kothariabhishek @HDFC_Bank Netbanking better karein, who wants to visit branches these days',\n",
              " '@kothariabhishek @HDFC_Bank In fact use of locker and gold loan can be done through branches only.',\n",
              " 'RT @CNBCTV18Live: #4QWithCNBCTV18 | Expect cost to income ratio to increase going ahead, Slippages are at Rs 4,000cr Vs Rs 4,600 cr QoQ\\n\\nRe…',\n",
              " 'RT @gopi1709: BN premiums on Friday were super low indicating impending premium (vol) explosion\\n\\nNow with #Infy and #HDFC results out, over…',\n",
              " '@HomeLoansByHDFC multiple emails and calls and personal visits to HDFC are going in vain as there is no proper response regarding the changes requested by the client.',\n",
              " 'We have worked out our analysis on hdfc bank result, how many are interested? Let us know \\n#hdfcbank',\n",
              " 'HDFC Bank Q4 Results: Profit jumps 23  YoY to Rs 10,055 crore; NII rises 10  https://t.co/wa0IiVdNSS via @economictimes',\n",
              " '@sandipsabharwal A bank which has given such consistent returns and safeguarded the investment  of retail investors for decades is allowed to have a bad year or two. HDFC bank will bounce back in 2 quarters and will reach their growth plans.',\n",
              " 'RT @HDFCBankNews: .@HDFC_Bank announces its Financial Results for the fourth quarter of 2021-22. \\n\\nKey highlights\\n1) Bank has 6,342 branche…',\n",
              " '@Madhuramaryan @DrKetamine1 @sandipsabharwal 5percnt is too much .... 60 points hdfc bank means single-handedly taking banknifty -700',\n",
              " '@HDFC_Bank HDFC credit card is fraud\\nMy husband sagar kuril\\nDues all payment and the card has been deactivated since 2 month and now they send bill by bill after deactivated, I raise the fraud complaint against this bank to lok pal, and I am quiet sure they will help us. \\nSagar 787526007',\n",
              " '@BandBajaateRaho  @HDFC_Bank @HDFCLIFE @HDFCBank_Cares @HDFCBankCare1  please check the below msg as the fraudulent -UPDATE: INR 83,249.00 debited from HDFC Bank XX7109 on 16-APR-22. Info: FUND TRF DM-524181XXXXXX3570. Avl bal:INR 0.00',\n",
              " 'HDFC Bank Q4 net rises 23% to ₹10,055 cr. on loan growth, lower\\xa0provisions https://t.co/hOk0GBAnTB',\n",
              " 'RT @kothariabhishek: Kotak Sec on @HDFC_Bank \\nMostly misses led by weak NII and/or revenue growth | Operating profit growth at 5% yoy was t…',\n",
              " '@HDFC_Bank  please check this issue asap -my  whole amount got deducted     Why your guys are not protecting your website -UPDATE: INR 83,249.00 debited from HDFC Bank XX7109 on 16-APR-22. Info: FUND TRF DM-524181XXXXXX3570. Avl bal:INR 0.00',\n",
              " 'RT @CNBCTV18Live: #4QWithCNBCTV18 | HDFC Bank Q4\\n\\n▶️Net Profit At Rs 10,055.2 Cr Vs CNBC-TV18 Poll Of Rs 10,347.1 Cr https://t.co/gqx2XwBQoK',\n",
              " '@kothariabhishek @HDFC_Bank Must be smaller branches with 2-5 employees.  They will use it for loan recovery, kyc, mf sales, insurance sales etc. They are not fool who will open branches without use.',\n",
              " 'RT @livemint: #HDFCBank earned a net profit of ₹10,055.2 crore on a standalone basis for the quarter ending March 2022 (Q4FY22) period, ris…',\n",
              " '#HDFCBank earned a net profit of ₹10,055.2 crore on a standalone basis for the quarter ending March 2022 (Q4FY22) period, rising by a whopping 22.8% yoy. \\n\\nhttps://t.co/00rO7v6l87',\n",
              " \"I opened an HDFC account in Chennai in 2013, dts where my branch still is!\\nNd I haven't visited it even once in last 8yrs! I visited an HDFC branch in Bengaluru around 4 yrs back and dts it! https://t.co/hpoT2Nd4UA\",\n",
              " \"@giriupatil Hi Girish, we sincerely regret the inconvenience. We have checked our database and confirm you that the mentioned caller number is not registered in the name of HDFC Bank.\\nPlease click on the link below and click on 'Do-Not-Call Registration' on the home page and\\nregister for\",\n",
              " 'RT @CNBCTV18Live: #4QWithCNBCTV18 | HDFC Bank reports an at all-time low Net Interest Margin of 4% vs 4.1% QoQ. Provision Coverage Ratio im…',\n",
              " '@ianabil HDFC Bank Credit Cardholders. You earn Fuel Points on retail spends you make through your IndianOil HDFC Bank Credit Cards and accelerated Fuel Point accrual on key categories like your Fuel spends (Only* at IndianOil Retail outlets), Groceries and Utilities as mentioned in the',\n",
              " 'Hello @HDFCBank_Cares ...a fraud message...\\n Dear user your HDFC Bank Account will be suspended! today please  update your PAN CARD click here to link https://t.co/xCz6G2E2r0 https://t.co/HB0gHQcRYN',\n",
              " 'RT @HDFCBankNews: .@HDFC_Bank announces its Financial Results for the fourth quarter of 2021-22, posting an increase of 10.2% in Net Revenu…',\n",
              " '@stockskibaat @kothariabhishek @HDFC_Bank May be they want to own a lot of real estate before the real estate boom starts..',\n",
              " 'Hdfc bank Q4 result analysis share may be blast on near term #HDFCBank\\n#StockMarketindia #trading #investing \\n@YouTubeIndia\\nhttps://t.co/QF1AdmHe12',\n",
              " '@HDFCBank_Cares Have already tried multiple transactions throughout the day. I fail to understand how @HDFC_Bank keeps on having these server issues.',\n",
              " '#HDFCBank gross NPA declines to 1.17 percent in March 2022\\n\\nREAD:https://t.co/S3icnJBTVK',\n",
              " '@kothariabhishek @HDFC_Bank That means more capex and opex , which will further affect their profits. Did they address',\n",
              " '@kothariabhishek @HDFC_Bank This is likely to lead to higher costs &amp;  lesser margins &amp; then to aggressive sales to balance things out where we are forced to take FD if we want a locker &amp; similar actions. The average, common person will bear the brunt. Upgrading technology &amp; experience should be priority.',\n",
              " '.@HDFC_Bank announces its Financial Results for the fourth quarter of 2021-22. \\n\\nKey highlights\\n1) Bank has 6,342 branches and 18,130 ATMs/CDMs across 3,188 cities.\\n2) Bank has 1,41,579 employees.\\n\\nView more details here- https://t.co/9viiSiulPk\\n\\n#HDFCBank #Q4FY22Results #Results https://t.co/G9GR5r52Kc',\n",
              " 'RT @MohindruDev: @sandipsabharwal Since Nifty was at 12000 around 2018-19, net profits increase:\\nTata Steel 4 times\\nHindalco 2.5 times\\nJSW…',\n",
              " 'those who knew the result of hdfc bank, did rise it to sky levels on merger news and happily invited buyers to get liquidity...done and dusted!',\n",
              " 'RT @PRSundar64: HDFC Bank results slightly below expectation.\\nBut it has already fallen 10% from merger news high.\\nGlobal cues not good, In…',\n",
              " \"HDFC opened 563 new Branches in Q4'22, While Public Banks merging/closing physical branches to satisfy fairy tale of current policy maker's Digital / Branchless Banking dream.\\n\\nPlease Save Public Banks from them.\\n@NITIAayog @DFS_India @FinMinIndia\",\n",
              " '@kothariabhishek @HDFC_Bank Abhishek Bhai, why the heck they want to be in 1-2km range when most of the work is now a days done digitally at least in big cities. This Brick-&amp;-Mortor is gone era thing... each branch will be an add-on expense especially if its going to be 1-2km range.',\n",
              " '.@HDFC_Bank announces its Financial Results for the fourth quarter of 2021-22, posting an increase of 10.2% in Net Revenues. \\nThe bank posted Net revenues of Rs 18.872.7 CR in Q4 FY21-22, compared to Rs 17,120.2 CR in Q4 FY20-21. \\n\\nView more details here- https://t.co/9viiSiulPk https://t.co/dxZ79RS4jC',\n",
              " \"@ChargePlate_in I'm holding hdfc millenia debit and moneyback credit card, Debit card is charged annually, i.e. 599. Should I degrade my debit card as I never use it\",\n",
              " 'Buy This Multibagger Auto Ancillary Stock For A Target Price of Rs 720:\\nHDFC Securities\\nGoodreturns\\nLG Balakrishnan &amp; Bros. Ltd (LGBB) is a small-cap auto ... https://t.co/bCSlsK60ix',\n",
              " 'HDFC Bank\\n\\nBad Bad Result after Infosys\\n\\nNII reported at Rs18,900 cr vs expected Rs19,600 cr\\n\\nTwo heavy weight Nifty stocks and... Monday ko market ki lag gayi.... \\U0001fae3😑',\n",
              " \"@ChargePlate_in What's the annual charge of your hdfc debit card?\",\n",
              " 'RT @mits_trader: HDFC Bank keep on taking support at 1370 since Nov 2020 at various junctures recently broke out of downward sloping trendl…',\n",
              " 'What is your view on HDFC Bank result. I think results are not so bad and not so good.\\n#HDFC @AdeParimal',\n",
              " 'Perks of not using a Debit card for a long time.\\n\\n✅ ₹250 #Amazon voucher on spending\\n✅ ₹500 or above twice on #HDFC #DebitCard\\n✅ Reward Rate: 25% https://t.co/Xuw94eoa47',\n",
              " '@deepakvenkatesh Bias depends on holding... Since you have position on hdfc bank you are positive !!!',\n",
              " 'RT @kothariabhishek: #4QWithCNBCTV18\\n@HDFC_Bank First Cut\\nOperationally weak qtr, with operating profit growth, the lowest ever &amp; NIM at al…',\n",
              " '@policybazaar @irdaindia @HDFCLIFE @HDFCLife_Cares @YashishDahiya policybazaar refer to PB30316140, there has been no help from your team even after 24hrs of creating the case. Refer HDFCSL=010-423-279, hdfc your team has asked me to wait for 7-10 days, to whom should I read now?',\n",
              " 'RT @equitybulls: HDFC Bank reappoints Mrs. Renu Karnad as Non-Executive Director\\n\\n#HDFCBank #INE040A01034 #HDB #Reappointment #RenuKarnad #…',\n",
              " '@varinder_bansal I visited today one of the HDFC branch  they refused my credit card application since I am not having account with them. Employee is very rude and arrogant.',\n",
              " '@HDFC_Bank I want ur bank credit card kindly help me',\n",
              " 'RT @AnishA_Moonka: 3/ HDFC Bank concall notes. https://t.co/Q2C8bY6kVk',\n",
              " '@agario_16 For cashback, FK Axis or Ace. Or Millennia from HDFC.',\n",
              " 'RT @kothariabhishek: Another analyst report on @HDFC_Bank which says, NII and PAT below est due to weak pricing power https://t.co/Vldn782D…',\n",
              " 'RT @HomeLoansByHDFC: Take a quick guess and reply in the comment section below. https://t.co/MCsAnGSEnj\\n\\n#HDFCHomeLoans #QuizTime',\n",
              " 'RT @PankajCaiser: @HDFC_Bank @HDFCBank_Cares \\nWhy am I not able to use my own money Cz of your technical challenges. India’s biggest privat…',\n",
              " 'HDFC Bank reappoints Mrs. Renu Karnad as Non-Executive Director\\n\\n#HDFCBank #INE040A01034 #HDB #Reappointment #RenuKarnad #NonExecutiveDirector \\n\\nhttps://t.co/N15hjtges2 https://t.co/hw5BIIi7fc',\n",
              " '@varinder_bansal Varinder Bansal ji please share your view on HDFC BANK result...I shall be highly obliged',\n",
              " 'HDFC Bank &amp; Infy had a good financial year yet failed to meet expectations! \\n\\nSo we all have become \"Indian Parents\"! 😅',\n",
              " \"@ashimhta @HDFC_Bank IMO HDFC should die. To execute an international transfer (or to sell stock), I'm still made to do it in person or via the phone (for the latter).\\n\\nImagine -I'm selling stock over the phone in 2022.\",\n",
              " '@rajuchavda1981 HDFC/Infy numbers aren’t bad particularly. Although NIFTY looks weak, me never know. I remember time in December when global cues were dark red and NIFTY went all forest green.',\n",
              " '@WeekendInvestng @WeekendInvestng  Hello Sir Just wanted Yours Views on @HDFC_Bank  Can we allocated 20% of our Portfolio on Hdfc bank As it seems Reasonable value /Under valued .',\n",
              " 'Website: https://t.co/zqSuCLlm56\\nAddress: #F741, E W College Main Rd, near Hdfc Atm, Bharath Nagar, BEL Layout, 1st stage, Bengaluru, Karnataka 560091 https://t.co/vWipBxBpyp',\n",
              " '@loud_socialist I am looking at your references @loud_socialist and they are bias, therefore the bias is in the final document. You will get an A.\\n\\nCTL is another name for the failed TIL, HDFC, Michel Lama, etc. You did not talk about the failure of the Council to do \"Oversight\" of the HPD.',\n",
              " 'RT @mayurshetty01: Adjusted for cost of credit, net interest margin has improved to 3.3% for FY22 versus 3.1% for FY21 says HDFC Bank.',\n",
              " 'RT @NiranjanGhatule: Infosys,TCS nd hdfc bank results are good in current scenario...But\\nNow if we start expecting someone to break the moo…',\n",
              " \"@nishkumar1977 Any views on hdfc bank ? Results are good but many are saying didn't  meet estimations, charts are showing it's  resting on support so if it breaks then huge fall?\",\n",
              " \"HDFC bank results can be put as 'Not so good, not so bad'. Depends on how you look at it.\\n\\nIf you hold it will you sell and why? https://t.co/8UV2vOptJZ\",\n",
              " 'Between Jan 22 to match 22 HDFC bank has opened 563 new branches  .amazing',\n",
              " '@HDFCBank_Cares @HDFC_Bank  Please check your DM.',\n",
              " '@varinder_bansal @varinder_bansal  Future Vision With Which The Management Is Looking Forward To Take @HDFC_Bank  And The Fire with Which The Management Is Banking On the Goals .',\n",
              " 'HDFC Bank to raise up to Rs. 50,000 crores\\n\\n#HDFCBank #INE040A01034 #HDB #FundRaising #Bonds #PrivatePlacement \\n\\nhttps://t.co/8pq92UJFVG https://t.co/hiB1xx4HYX',\n",
              " '@HDFCBank_Cares \\nHello hdfc bank my account hacked please stop all payments https://t.co/zJwwJNCu57',\n",
              " 'HDFC Bank Q4 Results: NII up 2.3% QoQ to Rs 18,873 crore; profit after tax dips 2.8% sequentially to Rs 10,055\\xa0crore https://t.co/kyqktYclId',\n",
              " 'RT @SmartSyncServ: If you are going to base your investing decision  based on experts on Twitter, remember the ones who own will invariably…',\n",
              " 'RT @AdityaD_Shah: \"As of today:-\\n\\nRetail has higher credit cost than wholesale\"\\n\\n-HDFC Bank\\n\\nIn complete contrast to previous cycles.....re…',\n",
              " '@D_Roudra @ndtv So India must cut ties with all the foreign countries and he must stop his foreign tours. KFC, MacD, Paytm, HDFC, Parle, Uniliver, MasterCard, Disney+... everything must be replaced by Indian alternatives, but how? Can he answer that!',\n",
              " 'RT @vetris_stocks: My India PF stocks 11 - 23 as of Mar 31. \\n⚡️\\nRetweet &amp; follow for top 10\\n⚡️\\nWestlife +36%\\nTeamlease +134\\nCG cons  +54\\nVa…',\n",
              " \"But the money is not yet credited and it's been a month. They provided transaction details. With that I mailed to hdfc through net banking service and no reply from also I visited nearest branch and no solution from them. Such a kind of worst experience with this banking.\",\n",
              " \"@HDFCBank_Cares Is there possibility to speak with the hdfc customer care executive. It's been more than 2 years I took hdfc account, I didn't even get an opportunity to speak with agent yet. Brand factory online returned my money back in to my account after online shopping\",\n",
              " 'HDFC Bank Q4 net up 23% to Rs 10,055 crore due to lower\\xa0provisions https://t.co/JxeDVj3Fkg',\n",
              " 'HDFC Bank Q4 net up 23% to Rs 10,055 crore due to lower\\xa0provisions https://t.co/viR3YDu2Km',\n",
              " 'BN premiums on Friday were super low indicating impending premium (vol) explosion\\n\\nNow with #Infy and #HDFC results out, overnight option sellers are panicking\\n\\nMarket always shows the way, it is for us to understand. Hope everyone stuck comes out unscathed 🙏\\n\\n#BankNiftyOptions',\n",
              " 'RT @Kiran24Rajput: If our objective is to achieve 15% CAGR, why worry abt Earnings, Cash Flows, Dividends &amp; Debt?\\n\\nJust invest in \"Index Fu…',\n",
              " 'RT @myvaluepicks: Prashant Jain and his fund managers loaded up 80 lakh shares of HDFC Bank and 71 lakh shares of HDFC in March 2022.',\n",
              " '@PRSundar64 About HDFC  let the BEP price break above 2390 - 2450 then go for buy/call with Small S.L',\n",
              " '@Coin_bit_R @HomeLoansByHDFC @HDFC_Bank @HDFCBank_Cares @RBI Hi , is it necessary to have mutation certificate of flat for loan against property ?',\n",
              " 'Increased DII shareholding in quarter March-2022.\\n\\n✅Powergrid \\n✅Indiabulls real estate \\n✅Max financial services \\n✅HDFC\\n✅HDFC bank \\n✅Canfin homes \\n✅Max health care \\n✅Angle one \\n✅Gujrat gas \\n✅Cams',\n",
              " \"@niftybets_ It's hdfc stock ...not jhola jhaap stock which will come down to 1200😅😅\",\n",
              " '@AnishA_Moonka HDFC bank Point No. 6 : A strong message to every investor.',\n",
              " 'HDFC Bank\\nInterest Income: 35,574 crore Vs 32,607 crore (YoY); 34,588 crore (QoQ)\\nProvisions: 4031 crore Vs 5753 crore (YoY); 3816 crore (QoQ)\\nNet Profit: 10,443 crore Vs 8434 crore (YoY); 10,591 crore (QoQ)\\nResults are not good if we see QoQ. \\n#NiftyBank \\n#HDFC \\n#StockMarket',\n",
              " 'HDFC Bank Q4FY22: From interest income to retail loans, 10 key points #HDFCBank #HDFCBankadvance #HDFCBankcapitaladequacy #HDFCBankdeposit #HDFCBankearnings #HDFCBankfinancialperformanc #HDFCBankFY22 #HDFCBankFY22highlights #HDFCBankFY22keyhighlights ...\\nhttps://t.co/DO6YTuDGsj',\n",
              " '@datta_arvind @EquityScavenger @gkundra Which makes more scene to buy HDFC and bank directly to benefit merger gains?',\n",
              " '@HDFCBank_Cares Why is HDFC Bank regularly calling people on Do Not Disturb list with recorded marketing messages to apply for HDFC credit cards. Please scrub your calling list with @Trai DND databases. \\nPlease register as a tele marketer &amp; follow TRAI rules.\\n#trai #hdfcbank',\n",
              " '@sandipsabharwal @sandipsabharwal  private Banks Are Doing Pretty well Considering the Covid Outbreak and the Net profitability Of @HDFC_Bank  Has Gone up 42% from 2019 to present Quarter in past 3 years and Hdfc bank has  583 new Branches in Q4  2022  Npa has gone Down . \\nSeems Like A Value Buy',\n",
              " 'Infosys,TCS nd hdfc bank results are good in current scenario...But\\nNow if we start expecting someone to break the moon nd stars... What can someone do??\\n\\nWait For Guds nd Material Cos Q4 results...See the margin pressure... Dunno hw ppl gonna react on that nos!!!\\n\\n#Q4Results',\n",
              " 'WATCH DR. RAVI SINGH TODAY ET NOW SWADESH AT 7:00 PM TO 7:15 PM ABOUT HDFC RESULTS https://t.co/797CDykWgD',\n",
              " \"@ashimhta @HDFC_Bank They provide banking services AND also build resilience. Don't ask the legends to change, learn how to be a better customer\",\n",
              " '@HDFC_Bank Kindly check your dm',\n",
              " '@saga_wealth @HDFC_Bank Holding in huge quantity forever',\n",
              " '@datta_arvind Not disappointed with numbers, HDFC and Infosys both have huge numbers. post Covid banks will turnaround in next few quarters in more stronger way. Nothing to worry about Infy, long term story is intact.',\n",
              " '@AlphaNaMila IMO hdfc is only marginally better, if not the same.',\n",
              " 'RT @42pi: weird equation\\n\\nhdfc bank + Infy = Negative Nifty https://t.co/mfXUCd8rmG',\n",
              " '@vinaypcv @PRSundar64 This is the main reason why retailers never make money 😅\\nThe same people who are scared to invest in HDFC Bank are ready to invest lakhs of money into Kingfisher kind of stocks 🤣🤣\\n\\nNPA going down is definitely good news \\n\\nLook at its NPA, balance sheet and FCF statements https://t.co/oJ4kJIX52i',\n",
              " 'weird equation\\n\\nhdfc bank + Infy = Negative Nifty https://t.co/mfXUCd8rmG',\n",
              " 'Friends asking an honest question here.  Don’t mean to offend any friends by this poll. \\nWho among these is the next HDFC Bank?\\n\\nPlease RT friends \\n@ishmohit1 @sahil_vi @suru27 @abhymurarka @mishika_chamria @MashraniVivek @MrRChaudhary @insharebazaar',\n",
              " 'Good numbers by HDFC Bank, \\n\\nNo matter what happens, quality companies like @HDFC_Bank &amp; @Infosys always perform good and deliver good returns to investors in the long run.',\n",
              " 'Do not forget this for Monday’s trade. HDFC Bank results are out and are below expectations! https://t.co/yF76eFuD9Y',\n",
              " '@hdfcsec @HDFCBank_Cares @jagograhakjago - USELESS #SECURITIES #COMPANY OF #HIND. NOBODY CONNECTED TILL KNOW. #ALL WERE #ASKING TO HAVE #INVESTMENTS TO #REDUCE #BROKERAGE ON MY TRADINGS BEING A #PREFERRED #CUSTOMER OF B HDFC BANK SINCE 15 years https://t.co/bvxO5FZ7t7',\n",
              " '@Monish0008 @PRSundar64 @HDFC_Bank Any Idea on Hul?',\n",
              " '@Monish0008 @PRSundar64 @HDFC_Bank Net Profits of Hdfc bank Has Gone Up 30-40% in past 2 years .\\nLooks like Big Guys Are Accumulating For Big Rally Ahead .',\n",
              " '@SubhadipNandy16 Infy opening as per Adr shd be - 8% hdfc bk no positive surprise will touch 1400',\n",
              " '@100_Friends @HDFC_Bank Welcome to the club vrohh https://t.co/iu3N3xggAP',\n",
              " 'What’s your take on HDFC Bank and Infy Results and impact on Nifty on Monday',\n",
              " 'Fantastic story on the principle that made the HDFC Bank a daddy of the Indian banking industry. https://t.co/DAmv5UyEAz',\n",
              " '@sakaria_bhavin @PRSundar64 @HDFC_Bank Not sure of Kotak. HDFCBANK will touch 2000 within next April at least once.',\n",
              " '@SmartSyncServ Yes, I just read two tweets on HDFC Bank shown in my TL. One analyst said the result is strong and another guy said poor.',\n",
              " 'HDFC Bank Reports A Near 23% Jump In Net Profits In The March\\xa0Quarter https://t.co/0vkiMLGOlE',\n",
              " 'HDFC Bank Q4 Result Update (Consolidated)\\n\\nInterest Earned: 35,574 crore Vs 32,607 crore (YoY); 34,588 crore (QoQ)\\n\\nProvisions: 4031 crore Vs 5753 crore (YoY); 3816 crore (QoQ)\\n\\nNet Profit: 10,443 crore Vs 8434 crore (YoY); 10,591 crore (QoQ)\\n\\nhttps://t.co/MeRMnIjDUA\\n\\n#Nifty https://t.co/JGruZhZ8N1',\n",
              " '@sandipsabharwal Hdfc bank price already corrected , big support zone on weekly charts .. expecting bounce back this month only',\n",
              " '@sandipsabharwal Since Nifty was at 12000 around 2018-19, net profits increase:\\nTata Steel 4 times\\nHindalco 2.5 times\\nJSW Steel 3 times\\nHDFC Bank 50%\\nReliance 60%\\nTCS 40%\\nKotak Bank 50%\\nGail 1.5 times\\nBig companies from minimum 40% to 400% up.\\nHow market to come down to oblige FOMO investors. NO.',\n",
              " 'Trade Plan for Monday\\n\\nInfy &amp; HDFC Bank results are out &amp; will impact the markets on Monday !\\n\\nWhat to expect &amp; what levels to keep in radar ?\\n\\nhttps://t.co/IUzaNIJjLP',\n",
              " \"@dgaurav7 @netshrink @DisabilityIndia @vjayakumar @chennaicorp @MSJE_AIC @csclofficial @SUMNetIndia @parisarpune @EnableMeAccess @KfW_FZ_int @RajivSpeaks @TheOfficialSBI @HDFC_Bank Ha, Ha..\\nWonder where @TheOfficialSBI would hv been hd they not been propped-up by govt with taxpayer's money!\",\n",
              " 'HDFC Bank \\n\\n- PAT without trading income translates to 10% growth QoQ ( Trading income of Rs 1000 crs of last quarter as against loss of Rs 40 crs Q4)\\n\\n- Loan growth coming from wholesale segment which has lower yields \\n\\n- High yield Retail credit growth lowering\\n\\n#Q4FY22',\n",
              " 'HDFC Bank results are solid. For a big bank, one or the other metric would be below expectations but the growth path is very clear and profit growth of 23% in a pandemic year shows the strength of the Bank operations.\\n\\nAs retail loans pickup, any dip in margins should revert. https://t.co/wvKfSjR33v',\n",
              " 'HDFC Bank Q4FY2022.\\nConsolidated PAT - Rs 10,475 Cr\\nStandalone PAT    - Rs 10,055 Cr\\nAnyway you at it, the figure is huge.\\n\\nIn comparison Q4 PAT \\n\\nTCS -  Rs 9959 Cr\\nInfy  -  Rs 5695 Cr',\n",
              " '@HDFC_Bank no any response very bad service',\n",
              " 'RT @kothariabhishek: For HDFC Bank:\\nAnalyst are also writing in their first cut... core income meaningfully trails advances momentum\\nNII lo…',\n",
              " \"Don't know why people are shouting #hdfcbank will 5 percent down or 10 percent down.. It has shown a good result. Hdfc may have an good announcement today or tomorrow itself.\",\n",
              " '@rrachakonda1 Expensive liabilities also. HDFC ltd  deposits are at much higher rates.',\n",
              " \"Presenting today's #CorpIndiaSpotlight \\n\\n#twitter #elonmusk #JPMorgan #Flipkart #India #ColomboStockExchange #SriLankaEconomicCrisis #SriLanka #HDFC #HDFCbank\\n\\n@Twitter @elonmusk @jpmorgan @Flipkart @HDFC_Bank https://t.co/eILzAnBJ23\",\n",
              " '@HDFCBank_Cares I called up hdfc customer care helpline in the morning regarding my debit/atm card, the lady on the other side was extremely rude and disconnected and transferred my call back to IVR, I called again 2 times and same thing happened .. Pathetic customer service… 😞',\n",
              " 'HDFC Bank will open tomorrow?\\n#hdfcbank',\n",
              " '@PRSundar64 Thank God HDFC Bank gave good result. Now Monday HDFC Bank will prevent bloodbath in the market by Infy. I hope Infy fall is neutralized by hdfc bank.',\n",
              " 'RT @HomeLoansByHDFC: #GoDigital with HDFC Home Loans &amp; manage your home loan online! Visit https://t.co/VAD7OSKQVe for more details.\\n\\n#HDFC…',\n",
              " '@dmuthuk The HDFC pack may see some pressure opening on Monday... so will Infy',\n",
              " \"@HDFC_Bank\\nSomeone doing fraud in name of hdfc bank, attached screenshot. Please take appropriate action, so reputation of HDFC doesn't get spoiled. https://t.co/ZUFwyrQJoJ\",\n",
              " '@RameshNagda67 @HDFC_Bank @duryodan_ @hdfcbank My brother Vibhishan moved all his relationship from HDFC to @ICICIBank',\n",
              " '3/ HDFC Bank concall notes. https://t.co/Q2C8bY6kVk',\n",
              " '@rrachakonda1 They are budgeting for HDFC ltd branches merging into HDFCBank Network.',\n",
              " 'RT @safiranand: Reading- large caps-ICICI pru, nippon india, aditya birla mf beat nifty 50 while hdfc fund was in line. Huge under performa…',\n",
              " \"RT @kotaksecurities: In today's #CompanyCloseup, let's take a look at HDFC's core business - lending. \\nIt's assets under management (AUM) h…\",\n",
              " '@sandipsabharwal Both infy  and hdfc bank result are good in current sanario.But\\nNow if you start expecting someone to break the moon and stars, what can someone do?',\n",
              " '@PRSundar64 Shorters are temporary... you must understand... are they gonna short hdfc bank to 100rs... then me and my relatives will sell everything and buy hdfc bank😂😂😂',\n",
              " '🏦Non-interest #revenue increased 28.8% YoY to Rs 7,637.10 cr, compared to Rs 7,593.90 cr. in the previous quarter.📈\\n\\nWhat do you think 🤔, How HDFC Bank shares will react on Monday after the Q4 result❓',\n",
              " 'HDFC Bank Q4 results ‼️\\n\\n🏦HDFC Bank on Saturday reported a 22.8% YoY rise in the net profit💰 for the March quarter at Rs. 10,055 crore. In the same quarter last year, the bank recorded a net profit of Rs. 8,186.51 crore.\\n\\n#stocks #Q4Results #StockMarket #HDFCBank https://t.co/XTnV9bNcL4',\n",
              " '@HDFC_Bank seriously 😂😂😂 https://t.co/VQicclgj4w',\n",
              " '@AshishGupta325 @DeepanjanSur I have straddles in HDFC Bank and Infy Both 😁\\n\\nI was thinking on Thursday kaafi gir gaye hai and bad result is already discounted....',\n",
              " '@kothariabhishek @HDFC_Bank Instead of improving digitization and having better personnel to give customers a better experience,why are they moving backwards and going to physical working ages.',\n",
              " 'Hdfc Bank Q4fy22: Net Profit Rises By 23% Yoy, Asset Quality Improves Further | Mint - Mint #news #headlines #india #IndiaNews https://t.co/KfHqmnUfgd',\n",
              " '@HDFCBank_Cares i use current account from HDFC...Bank branch is told that e pan card issued by government is not valid for linking to bank... pathetic service form HDFC Bank @RBI @HDFC_Bank @FinMinIndia']"
            ]
          },
          "metadata": {},
          "execution_count": 95
        }
      ]
    },
    {
      "cell_type": "code",
      "source": [
        " \"I am claiming my free Litecoin from @_bitcoiner's zesty faucet! ⚡\\n\\n@_bitcoiner unlock me 817ef892-fcc3-4d33-9241-fe87d9690ded\\n\\n#Litecoin #LTC $LTC https://t.co/CMqz8O4BBl\"== \"I am claiming my free Litecoin from @_bitcoiner's zesty faucet! ⚡\\n\\n@_bitcoiner unlock me df773e07-7901-4804-aea7-24693fc17146\\n\\n#Litecoin #LTC $LTC https://t.co/acJssawabW\""
      ],
      "metadata": {
        "colab": {
          "base_uri": "https://localhost:8080/"
        },
        "id": "cTqcIaHN4iHi",
        "outputId": "90863eb0-1264-4671-fbee-543b2ff4e191"
      },
      "execution_count": 89,
      "outputs": [
        {
          "output_type": "execute_result",
          "data": {
            "text/plain": [
              "False"
            ]
          },
          "metadata": {},
          "execution_count": 89
        }
      ]
    },
    {
      "cell_type": "code",
      "source": [
        "tweet2=[]\n",
        "for i in tweet:\n",
        "  if len(i)<200:\n",
        "    tweet2.append(i)"
      ],
      "metadata": {
        "id": "JGsgBUC3psYS"
      },
      "execution_count": 77,
      "outputs": []
    },
    {
      "cell_type": "code",
      "source": [
        "for j in i:\n",
        "  print(j,i[j])"
      ],
      "metadata": {
        "colab": {
          "base_uri": "https://localhost:8080/"
        },
        "id": "7D4FHe3wp2OI",
        "outputId": "9c21b86d-bb5f-4ad5-9674-bb61cbca7d2d"
      },
      "execution_count": 25,
      "outputs": [
        {
          "output_type": "stream",
          "name": "stdout",
          "text": [
            "created_at Fri Apr 08 18:25:24 +0000 2022\n",
            "id 1512496850833747981\n",
            "id_str 1512496850833747981\n",
            "full_text @elonmusk @teslaownersSV Can I please get my Cybertruck with a giant Dogecoin painted on the front?\n",
            "truncated False\n",
            "display_text_range [25, 99]\n",
            "entities {'hashtags': [], 'symbols': [], 'user_mentions': [{'screen_name': 'elonmusk', 'name': 'Elon Musk', 'id': 44196397, 'id_str': '44196397', 'indices': [0, 9]}, {'screen_name': 'teslaownersSV', 'name': 'Tesla Owners Silicon Valley', 'id': 1016059981907386368, 'id_str': '1016059981907386368', 'indices': [10, 24]}], 'urls': []}\n",
            "metadata {'result_type': 'popular', 'iso_language_code': 'en'}\n",
            "source <a href=\"http://twitter.com/download/iphone\" rel=\"nofollow\">Twitter for iPhone</a>\n",
            "in_reply_to_status_id 1512496527452913674\n",
            "in_reply_to_status_id_str 1512496527452913674\n",
            "in_reply_to_user_id 44196397\n",
            "in_reply_to_user_id_str 44196397\n",
            "in_reply_to_screen_name elonmusk\n",
            "user {'id': 805532293951606785, 'id_str': '805532293951606785', 'name': 'Matt Wallace', 'screen_name': 'MattWallace888', 'location': 'United States', 'description': 'Top Crypto YouTuber! Final Stand is my channel. ❤️#Dogecoin❤️ Subscribe/Follow & turn those #notifications on for BIG Real Time Updates! 🔻Crypto picks link🔻:)', 'url': 'https://t.co/mKcC4lFhwX', 'entities': {'url': {'urls': [{'url': 'https://t.co/mKcC4lFhwX', 'expanded_url': 'http://www.patreon.com/mattwallace', 'display_url': 'patreon.com/mattwallace', 'indices': [0, 23]}]}, 'description': {'urls': []}}, 'protected': False, 'followers_count': 587078, 'friends_count': 2601, 'listed_count': 617, 'created_at': 'Sun Dec 04 22:00:39 +0000 2016', 'favourites_count': 22154, 'utc_offset': None, 'time_zone': None, 'geo_enabled': False, 'verified': True, 'statuses_count': 8299, 'lang': None, 'contributors_enabled': False, 'is_translator': False, 'is_translation_enabled': False, 'profile_background_color': 'F5F8FA', 'profile_background_image_url': None, 'profile_background_image_url_https': None, 'profile_background_tile': False, 'profile_image_url': 'http://pbs.twimg.com/profile_images/1443371609994272779/ChYZewZO_normal.jpg', 'profile_image_url_https': 'https://pbs.twimg.com/profile_images/1443371609994272779/ChYZewZO_normal.jpg', 'profile_banner_url': 'https://pbs.twimg.com/profile_banners/805532293951606785/1639250047', 'profile_link_color': '1DA1F2', 'profile_sidebar_border_color': 'C0DEED', 'profile_sidebar_fill_color': 'DDEEF6', 'profile_text_color': '333333', 'profile_use_background_image': True, 'has_extended_profile': True, 'default_profile': True, 'default_profile_image': False, 'following': False, 'follow_request_sent': False, 'notifications': False, 'translator_type': 'none', 'withheld_in_countries': []}\n",
            "geo None\n",
            "coordinates None\n",
            "place None\n",
            "contributors None\n",
            "is_quote_status False\n",
            "retweet_count 57\n",
            "favorite_count 489\n",
            "favorited False\n",
            "retweeted False\n",
            "lang en\n"
          ]
        }
      ]
    },
    {
      "cell_type": "code",
      "source": [
        "dir(api)\n"
      ],
      "metadata": {
        "colab": {
          "base_uri": "https://localhost:8080/"
        },
        "id": "HyK6TXvccuXq",
        "outputId": "0145a827-fec0-475a-de33-ada9a77581b6"
      },
      "execution_count": 10,
      "outputs": [
        {
          "output_type": "execute_result",
          "data": {
            "text/plain": [
              "['__class__',\n",
              " '__delattr__',\n",
              " '__dict__',\n",
              " '__dir__',\n",
              " '__doc__',\n",
              " '__eq__',\n",
              " '__format__',\n",
              " '__ge__',\n",
              " '__getattribute__',\n",
              " '__gt__',\n",
              " '__hash__',\n",
              " '__init__',\n",
              " '__init_subclass__',\n",
              " '__le__',\n",
              " '__lt__',\n",
              " '__module__',\n",
              " '__ne__',\n",
              " '__new__',\n",
              " '__reduce__',\n",
              " '__reduce_ex__',\n",
              " '__repr__',\n",
              " '__setattr__',\n",
              " '__sizeof__',\n",
              " '__str__',\n",
              " '__subclasshook__',\n",
              " '__weakref__',\n",
              " '_add_list_members',\n",
              " '_lookup_friendships',\n",
              " '_pack_image',\n",
              " '_remove_list_members',\n",
              " '_send_direct_message',\n",
              " 'add_list_member',\n",
              " 'add_list_members',\n",
              " 'api_root',\n",
              " 'auth',\n",
              " 'blocks',\n",
              " 'blocks_ids',\n",
              " 'cache',\n",
              " 'cached_result',\n",
              " 'compression',\n",
              " 'configuration',\n",
              " 'create_block',\n",
              " 'create_favorite',\n",
              " 'create_friendship',\n",
              " 'create_list',\n",
              " 'create_media_metadata',\n",
              " 'create_mute',\n",
              " 'create_saved_search',\n",
              " 'destroy_block',\n",
              " 'destroy_direct_message',\n",
              " 'destroy_favorite',\n",
              " 'destroy_friendship',\n",
              " 'destroy_list',\n",
              " 'destroy_mute',\n",
              " 'destroy_saved_search',\n",
              " 'destroy_status',\n",
              " 'favorites',\n",
              " 'followers',\n",
              " 'followers_ids',\n",
              " 'friends',\n",
              " 'friends_ids',\n",
              " 'friendships_incoming',\n",
              " 'friendships_outgoing',\n",
              " 'geo_id',\n",
              " 'geo_search',\n",
              " 'geo_similar_places',\n",
              " 'get_direct_message',\n",
              " 'get_list',\n",
              " 'get_oembed',\n",
              " 'get_saved_search',\n",
              " 'get_settings',\n",
              " 'get_status',\n",
              " 'get_user',\n",
              " 'home_timeline',\n",
              " 'host',\n",
              " 'last_response',\n",
              " 'list_direct_messages',\n",
              " 'list_members',\n",
              " 'list_subscribers',\n",
              " 'list_timeline',\n",
              " 'lists_all',\n",
              " 'lists_memberships',\n",
              " 'lists_subscriptions',\n",
              " 'lookup_friendships',\n",
              " 'lookup_users',\n",
              " 'me',\n",
              " 'media_upload',\n",
              " 'mentions_timeline',\n",
              " 'mutes',\n",
              " 'mutes_ids',\n",
              " 'parser',\n",
              " 'proxy',\n",
              " 'rate_limit_status',\n",
              " 'related_results',\n",
              " 'remove_list_member',\n",
              " 'remove_list_members',\n",
              " 'report_spam',\n",
              " 'retry_count',\n",
              " 'retry_delay',\n",
              " 'retry_errors',\n",
              " 'retweet',\n",
              " 'retweeters',\n",
              " 'retweets',\n",
              " 'retweets_of_me',\n",
              " 'reverse_geocode',\n",
              " 'saved_searches',\n",
              " 'search',\n",
              " 'search_30_day',\n",
              " 'search_full_archive',\n",
              " 'search_host',\n",
              " 'search_root',\n",
              " 'search_users',\n",
              " 'send_direct_message',\n",
              " 'set_settings',\n",
              " 'show_friendship',\n",
              " 'show_list_member',\n",
              " 'show_list_subscriber',\n",
              " 'statuses_lookup',\n",
              " 'subscribe_list',\n",
              " 'supported_languages',\n",
              " 'timeout',\n",
              " 'trends_available',\n",
              " 'trends_closest',\n",
              " 'trends_place',\n",
              " 'unretweet',\n",
              " 'unsubscribe_list',\n",
              " 'update_list',\n",
              " 'update_profile',\n",
              " 'update_profile_banner',\n",
              " 'update_profile_image',\n",
              " 'update_status',\n",
              " 'update_with_media',\n",
              " 'upload_host',\n",
              " 'upload_root',\n",
              " 'user_timeline',\n",
              " 'verify_credentials',\n",
              " 'wait_on_rate_limit',\n",
              " 'wait_on_rate_limit_notify']"
            ]
          },
          "metadata": {},
          "execution_count": 10
        }
      ]
    },
    {
      "cell_type": "code",
      "source": [
        "\n",
        "score=[]\n",
        "mood=sentimentmodel(tweet)\n",
        "for i in mood:\n",
        "  if i['label']=='POS':\n",
        "    score.append(i['score'])\n",
        "  elif i['label']=='NEG':\n",
        "    score.append(-i['score'])\n",
        "print('this is the score')\n",
        "print(sum(score)/len(score))"
      ],
      "metadata": {
        "colab": {
          "base_uri": "https://localhost:8080/"
        },
        "id": "GdQC-rsNrw0W",
        "outputId": "cc5fd466-5a71-4f62-c2a5-1b5249f6d661"
      },
      "execution_count": 96,
      "outputs": [
        {
          "output_type": "stream",
          "name": "stdout",
          "text": [
            "this is the score\n",
            "-0.5111019662085999\n"
          ]
        }
      ]
    },
    {
      "cell_type": "code",
      "source": [
        "data=['the movie was bad,but could have been better ']\n",
        "sentimentmodel(data)\n"
      ],
      "metadata": {
        "colab": {
          "base_uri": "https://localhost:8080/"
        },
        "id": "RScavGIYsyXN",
        "outputId": "a67a19bb-fe87-4dbd-b206-2c8611db1b65"
      },
      "execution_count": 60,
      "outputs": [
        {
          "output_type": "execute_result",
          "data": {
            "text/plain": [
              "[{'label': 'NEG', 'score': 0.9352083802223206}]"
            ]
          },
          "metadata": {},
          "execution_count": 60
        }
      ]
    },
    {
      "cell_type": "code",
      "source": [
        "-i['score']"
      ],
      "metadata": {
        "colab": {
          "base_uri": "https://localhost:8080/"
        },
        "id": "Ix7vfEzVywbS",
        "outputId": "d8e31b51-8491-4548-a743-18d1b80f4621"
      },
      "execution_count": 63,
      "outputs": [
        {
          "output_type": "execute_result",
          "data": {
            "text/plain": [
              "-0.9773252010345459"
            ]
          },
          "metadata": {},
          "execution_count": 63
        }
      ]
    },
    {
      "cell_type": "code",
      "source": [
        ""
      ],
      "metadata": {
        "id": "h-svbMaVzGTb"
      },
      "execution_count": null,
      "outputs": []
    }
  ]
}