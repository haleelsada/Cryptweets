{
  "nbformat": 4,
  "nbformat_minor": 0,
  "metadata": {
    "colab": {
      "name": "Cryptweet.ipynb",
      "provenance": [],
      "authorship_tag": "ABX9TyOIQ2XnZx10KZiUlZb7RHaM",
      "include_colab_link": true
    },
    "kernelspec": {
      "name": "python3",
      "display_name": "Python 3"
    },
    "language_info": {
      "name": "python"
    }
  },
  "cells": [
    {
      "cell_type": "markdown",
      "metadata": {
        "id": "view-in-github",
        "colab_type": "text"
      },
      "source": [
        "<a href=\"https://colab.research.google.com/github/haleelsada/Cryptweets/blob/main/Cryptweet.ipynb\" target=\"_parent\"><img src=\"https://colab.research.google.com/assets/colab-badge.svg\" alt=\"Open In Colab\"/></a>"
      ]
    },
    {
      "cell_type": "markdown",
      "source": [
        "# **Cryptweet**\n",
        "\n",
        "**Integrating Twitter API with huggingface transformers to predict future movement of a cryptocurrencies and stocks**\n",
        "\n",
        "It is famous that social media platforms like twitter plays an imortant role in determining the price of financial asset platforms like stock market and crytpocurrencies. It is expected to increase the price of Doge after a tweet from Elon musk. Here the sentiment of public about a cryptocoin or stock (or any current issue going on!) could be calculated with the help of **twitter api** and **huggingface transformers** and a little mathematics"
      ],
      "metadata": {
        "id": "GaKlMEgSaUfW"
      }
    },
    {
      "cell_type": "code",
      "execution_count": 5,
      "metadata": {
        "colab": {
          "base_uri": "https://localhost:8080/"
        },
        "id": "ZVbnKJe9aQiG",
        "outputId": "e8293b0a-9e31-453e-e2a7-7e050fbdb5a5"
      },
      "outputs": [
        {
          "output_type": "stream",
          "name": "stdout",
          "text": [
            "Requirement already satisfied: tweepy in /usr/local/lib/python3.7/dist-packages (4.8.0)\n",
            "Requirement already satisfied: oauthlib<4,>=3.2.0 in /usr/local/lib/python3.7/dist-packages (from tweepy) (3.2.0)\n",
            "Requirement already satisfied: requests-oauthlib<2,>=1.2.0 in /usr/local/lib/python3.7/dist-packages (from tweepy) (1.3.1)\n",
            "Requirement already satisfied: requests<3,>=2.27.0 in /usr/local/lib/python3.7/dist-packages (from tweepy) (2.27.1)\n",
            "Requirement already satisfied: charset-normalizer~=2.0.0 in /usr/local/lib/python3.7/dist-packages (from requests<3,>=2.27.0->tweepy) (2.0.12)\n",
            "Requirement already satisfied: urllib3<1.27,>=1.21.1 in /usr/local/lib/python3.7/dist-packages (from requests<3,>=2.27.0->tweepy) (1.24.3)\n",
            "Requirement already satisfied: idna<4,>=2.5 in /usr/local/lib/python3.7/dist-packages (from requests<3,>=2.27.0->tweepy) (2.10)\n",
            "Requirement already satisfied: certifi>=2017.4.17 in /usr/local/lib/python3.7/dist-packages (from requests<3,>=2.27.0->tweepy) (2021.10.8)\n"
          ]
        }
      ],
      "source": [
        "# modules for twitter api manipulation\n",
        "!pip install --upgrade tweepy\n",
        "import tweepy\n",
        "import json\n",
        "import pandas,numpy"
      ]
    },
    {
      "cell_type": "code",
      "source": [
        "# import necassery modules for mood analysis\n",
        "from transformers import pipeline\n",
        "!pip -q install transformers\n",
        "!pip3 install emoji\n",
        "sentimentmodel=pipeline(model=\"finiteautomata/bertweet-base-sentiment-analysis\")\n",
        "\n"
      ],
      "metadata": {
        "id": "I9vt38x23leG"
      },
      "execution_count": null,
      "outputs": []
    },
    {
      "cell_type": "code",
      "source": [
        "# authenticate the api key and token with twitter\n",
        "\n",
        "from tweepy.auth import OAuthHandler\n",
        "\n",
        "auth = OAuthHandler('t6d8uj4w9P6DjrNSmfSd42gEI', 'ZLcVXunCbN6NO4rUup6vTR33rO32epm0LFHLkzFLZnhjbQmQzZ')\n",
        "auth.set_access_token('1405483945379074054-ktOMmQ6HUcZwzOxiHfjcFmP74hkTn5', 'hV792qfEAuJcvZmkzmoMf61qaaSnoV8D2YiIFYjzAgr06')\n",
        "\n",
        "\n",
        "api = tweepy.API(auth,wait_on_rate_limit=True)"
      ],
      "metadata": {
        "id": "k121o5gGbORs"
      },
      "execution_count": 7,
      "outputs": []
    },
    {
      "cell_type": "code",
      "source": [
        "# extract the tweets with the given keyword\n",
        "\n",
        "def tweextractor(keyword):\n",
        "\n",
        "  tweet=[]      #list to store tweets extracted\n",
        " \n",
        "  # search_tweets method extract atmost 100 tweets with given keyword\n",
        "  # use it with cursor to extract more than that in one go\n",
        "  \n",
        "  # take 500 popular tweets and 500 recent tweets to keep consistency in the result\n",
        "\n",
        "  for i in tweepy.Cursor(api.search_tweets, keyword,tweet_mode=\"extended\",lang='en',result_type='recent',count=100).items(500):\n",
        "    i = json.dumps(i._json)\n",
        "    i = json.loads(i)\n",
        "    if i['full_text'] not in tweet:\n",
        "      tweet.append(i['full_text'])\n",
        "  for i in tweepy.Cursor(api.search_tweets, keyword,tweet_mode=\"extended\",lang='en',result_type='popular',count=100).items(500):\n",
        "    i = json.dumps(i._json)\n",
        "    i = json.loads(i)\n",
        "    if i['full_text'] not in tweet and len(i['full_text'])<500:\n",
        "      tweet.append(i['full_text'])\n",
        "  print(len(tweet),'tweets total tweets found')\n",
        "  return tweet\n"
      ],
      "metadata": {
        "id": "EoCN5MGSb_c3"
      },
      "execution_count": 109,
      "outputs": []
    },
    {
      "cell_type": "code",
      "source": [
        "#check tweextractor function\n",
        "\n",
        "tweets=tweextractor('bitcoin')\n",
        "tweets[:5]"
      ],
      "metadata": {
        "colab": {
          "base_uri": "https://localhost:8080/"
        },
        "id": "5FrIJlC228vu",
        "outputId": "af724f84-740f-4a22-f6fa-c6bd22e1af43"
      },
      "execution_count": 110,
      "outputs": [
        {
          "output_type": "stream",
          "name": "stdout",
          "text": [
            "432 tweets total tweets found\n"
          ]
        },
        {
          "output_type": "execute_result",
          "data": {
            "text/plain": [
              "['RT @RichardMcCrackn: Poll: Should the Cardano Foundation @CardanoStiftung sell 50 Billion Ada in exchange for Bitcoin to do whatever the sa…',\n",
              " 'RT @rovercrc: IF I HIT 160,000 FOLLOWERS BEFORE MONDAY I WILL GIVE $500 WORTH OF #BITCOIN TO ONE LUCKY FOLLOWER!!',\n",
              " \"RT @Crypto_Potato: Bitcoin bull Michael Saylor revealed his intention of continuing the bitcoin strategy in a letter sent to Microstrategy'…\",\n",
              " 'RT @additionalrules: News about Metaverse\\n\\nTitle：Love in the metaverse: Everything you need to know about dating, sex, and marriage in a vi…',\n",
              " 'RT @BTC_Archive: Time for Michael and Elon to have another chat about #Bitcoin https://t.co/8aUWSraNwe',\n",
              " '@Bitcoin @elonmusk @JeffBezos 🤣🤣🤣 Best meme of the month!!! Funny❤️',\n",
              " 'RT @BlackBearFi: We are excited to announce that our project is going live within months. 🌲 If you want a chance to win 100 $matic enter th…',\n",
              " 'RT @FlowHodler: Free Coin Race!! \\nThe first one to move the coin to his wallet wins \\nSecret Phrase Below\\n\\npelican play gas target cluster c…',\n",
              " 'I am very thankful to @Tradeosiann   for knowing me this dangerous #Bitcoin crash and #ETH crash. That\\'s because of you only  I didn\\'t cause any type of losses. A huge thankyou to you once again. #DOGE Crash #BTC crash  \"accurate from all.\" #NFTs #crypto #XRP $BTC r',\n",
              " 'I am very thankful to @Tradeosiann   for knowing me this dangerous #Bitcoin crash and #ETH crash. That\\'s because of you only  I didn\\'t cause any type of losses. A huge thankyou to you once again. #DOGE Crash #BTC crash  \"accurate from all.\" #NFTs #crypto #XRP $BTC q',\n",
              " 'Bitcoin Magazine📰  Partners With @NBA Stars For Ukrainian Relief🏀\\n\\n#CryptoNews #Bitcoin #NBA',\n",
              " 'RT @Dennis_Porter_: People are leaving WEF to work on #Bitcoin. You heard it here first.',\n",
              " '@PrestonPysh @crypto “I cry because others are stupid and it makes me sad.” https://t.co/iPrNpnAofh via @YouTube',\n",
              " 'You are not to rich to buy #Bitcoin.',\n",
              " 'Full #Bitcoin technical analysis review. Free for all.\\n\\n📺https://t.co/oTL4Dvt6gw https://t.co/4JujhoD7OK',\n",
              " 'How Blockchain can Benefit the Companies? - ReadWrite   https://t.co/K18NCqnzD1   #Blockchain  #Bitcoin',\n",
              " 'Polkadot, Avalanche, and Bitgert -Which is the No 1 Blockchain Amongst These? - Analytics Insight   https://t.co/V3WjwDl7Cc   #Blockchain  #Bitcoin',\n",
              " 'RT @TeslaCryptoPunk: Tesla Crypto Punk #135\\nhttps://t.co/0ZQxFTEP7F\\nToken Standard: ERC-721\\nBlockchain: Polygon\\n#NFTCommunity #NFT #NFTs #N…',\n",
              " 'I am very thankful to @Tradeosiann   for knowing me this dangerous #Bitcoin crash and #ETH crash. That\\'s because of you only  I didn\\'t cause any type of losses. A huge thankyou to you once again. #DOGE Crash #BTC crash  \"accurate from all.\" #NFTs #crypto #XRP $BTC w',\n",
              " 'That joke got some people lol Shout out to Becca, Robin, and Daniel! $61 out of a $300 goal!! $HumanityGives I can take Bitcoin PayPal or Venmo or if you want to use the website please tell me specifically']"
            ]
          },
          "metadata": {},
          "execution_count": 110
        }
      ]
    },
    {
      "cell_type": "code",
      "source": [
        "# method to take tweets and find overwhole sentiment to analyse where the\n",
        "def sentimentanalyser(tweet):\n",
        "  score=[]\n",
        "  mood=sentimentmodel(tweet)\n",
        "  for i in mood:\n",
        "    if i['label']=='POS':\n",
        "      score.append(i['score'])\n",
        "    elif i['label']=='NEG':\n",
        "      score.append(-i['score'])\n",
        "  sentiment=sum(score)/len(score)\n",
        "  if sentiment>0:\n",
        "    print('Sentiment of public is positive with probability',sentiment)\n",
        "  else:print('Sentiment of public is negative with probability',sentiment)\n",
        "  "
      ],
      "metadata": {
        "id": "GdQC-rsNrw0W"
      },
      "execution_count": 118,
      "outputs": []
    },
    {
      "cell_type": "code",
      "source": [
        "keyword='HDFC'    # check mood of public about the price of hdfc stock\n",
        "tweets=tweextractor(keyword)\n",
        "sentimentanalyser(tweets)"
      ],
      "metadata": {
        "colab": {
          "base_uri": "https://localhost:8080/"
        },
        "id": "RScavGIYsyXN",
        "outputId": "5443eae7-005f-4e9f-be7e-e1491a1e5ae8"
      },
      "execution_count": 120,
      "outputs": [
        {
          "output_type": "stream",
          "name": "stdout",
          "text": [
            "314 tweets total tweets found\n",
            "Sentiment of public is negative with probability -0.48495944512301475\n"
          ]
        }
      ]
    },
    {
      "cell_type": "code",
      "source": [
        "keyword='nifty50'    # check mood of public about the price of hdfc stock\n",
        "tweets=tweextractor(keyword)\n",
        "sentimentanalyser(tweets)"
      ],
      "metadata": {
        "colab": {
          "base_uri": "https://localhost:8080/"
        },
        "id": "h-svbMaVzGTb",
        "outputId": "458fc3df-fda9-43a1-b062-1c848390cb3d"
      },
      "execution_count": 121,
      "outputs": [
        {
          "output_type": "stream",
          "name": "stdout",
          "text": [
            "438 tweets total tweets found\n",
            "Sentiment of public is positive with probability 0.2551161650082339\n"
          ]
        }
      ]
    },
    {
      "cell_type": "code",
      "source": [
        ""
      ],
      "metadata": {
        "id": "o_Rj_pWmAxxM"
      },
      "execution_count": null,
      "outputs": []
    }
  ]
}